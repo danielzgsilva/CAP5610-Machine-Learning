{
 "cells": [
  {
   "cell_type": "markdown",
   "metadata": {},
   "source": [
    "# CAP 5610 Homework 2 "
   ]
  },
  {
   "cell_type": "code",
   "execution_count": 1,
   "metadata": {},
   "outputs": [],
   "source": [
    "import pandas as pd\n",
    "import numpy as np\n",
    "\n",
    "import seaborn as sns\n",
    "import matplotlib.pyplot as plt\n",
    "%matplotlib inline\n",
    "\n",
    "import random\n",
    "import os\n",
    "from sklearn.neighbors import KNeighborsClassifier\n",
    "\n",
    "import warnings\n",
    "warnings.filterwarnings(\"ignore\")"
   ]
  },
  {
   "cell_type": "code",
   "execution_count": 2,
   "metadata": {},
   "outputs": [],
   "source": [
    "train_file = os.path.join(os.getcwd(), 'train.csv')\n",
    "test_file = os.path.join(os.getcwd(), 'test.csv')"
   ]
  },
  {
   "cell_type": "code",
   "execution_count": 3,
   "metadata": {},
   "outputs": [],
   "source": [
    "train = pd.read_csv(train_file)\n",
    "test = pd.read_csv(test_file)"
   ]
  },
  {
   "cell_type": "code",
   "execution_count": 4,
   "metadata": {},
   "outputs": [],
   "source": [
    "train_x = train.drop(['Survived'], axis=1, inplace=False)\n",
    "\n",
    "combined = pd.concat([train_x, test])"
   ]
  },
  {
   "cell_type": "code",
   "execution_count": 5,
   "metadata": {},
   "outputs": [
    {
     "name": "stdout",
     "output_type": "stream",
     "text": [
      "Train length: 891\n",
      "Test length: 418\n",
      "Combined length: 1309\n"
     ]
    }
   ],
   "source": [
    "print('Train length: {}'.format(len(train)))\n",
    "print('Test length: {}'.format(len(test)))\n",
    "print('Combined length: {}'.format(len(combined)))"
   ]
  },
  {
   "cell_type": "code",
   "execution_count": 6,
   "metadata": {},
   "outputs": [
    {
     "name": "stdout",
     "output_type": "stream",
     "text": [
      "<class 'pandas.core.frame.DataFrame'>\n",
      "Int64Index: 1309 entries, 0 to 417\n",
      "Data columns (total 11 columns):\n",
      "PassengerId    1309 non-null int64\n",
      "Pclass         1309 non-null int64\n",
      "Name           1309 non-null object\n",
      "Sex            1309 non-null object\n",
      "Age            1046 non-null float64\n",
      "SibSp          1309 non-null int64\n",
      "Parch          1309 non-null int64\n",
      "Ticket         1309 non-null object\n",
      "Fare           1308 non-null float64\n",
      "Cabin          295 non-null object\n",
      "Embarked       1307 non-null object\n",
      "dtypes: float64(2), int64(4), object(5)\n",
      "memory usage: 122.7+ KB\n"
     ]
    }
   ],
   "source": [
    "combined.info()"
   ]
  },
  {
   "cell_type": "markdown",
   "metadata": {},
   "source": [
    "#### Q9 - Pclass vs Survived"
   ]
  },
  {
   "cell_type": "code",
   "execution_count": 7,
   "metadata": {},
   "outputs": [
    {
     "name": "stdout",
     "output_type": "stream",
     "text": [
      "Average survival ratios: \n",
      "         class 1: 0.6296296296296297\n",
      "         class 2: 0.47282608695652173\n",
      "         class 3: 0.24236252545824846\n"
     ]
    }
   ],
   "source": [
    "class1 = np.mean(train[train['Pclass'] == 1]['Survived'])\n",
    "class2 = np.mean(train[train['Pclass'] == 2]['Survived'])\n",
    "class3 = np.mean(train[train['Pclass'] == 3]['Survived'])\n",
    "\n",
    "print('Average survival ratios: \\n \\\n",
    "        class 1: {}\\n \\\n",
    "        class 2: {}\\n \\\n",
    "        class 3: {}'.format(class1, class2, class3))"
   ]
  },
  {
   "cell_type": "code",
   "execution_count": 8,
   "metadata": {},
   "outputs": [
    {
     "data": {
      "text/plain": [
       "<matplotlib.axes._subplots.AxesSubplot at 0x7f9d55242390>"
      ]
     },
     "execution_count": 8,
     "metadata": {},
     "output_type": "execute_result"
    },
    {
     "data": {
      "image/png": "[encoded data removed]",
      "text/plain": [
       "<Figure size 432x288 with 1 Axes>"
      ]
     },
     "metadata": {
      "needs_background": "light"
     },
     "output_type": "display_data"
    }
   ],
   "source": [
    "sns.barplot(x='Pclass', y='Survived', data=train)"
   ]
  },
  {
   "cell_type": "markdown",
   "metadata": {},
   "source": [
    "#### Q10 - Gender vs Survived"
   ]
  },
  {
   "cell_type": "code",
   "execution_count": 9,
   "metadata": {},
   "outputs": [
    {
     "name": "stdout",
     "output_type": "stream",
     "text": [
      "Percent of men that survived: 0.18890814558058924\n",
      "Percent of women that survived: 0.7420382165605095\n"
     ]
    }
   ],
   "source": [
    "men_survived = np.mean(train[train['Sex'] == 'male']['Survived'])\n",
    "women_survived = np.mean(train[train['Sex'] == 'female']['Survived'])\n",
    "\n",
    "print('Percent of men that survived: {}'.format(men_survived))\n",
    "print('Percent of women that survived: {}'.format(women_survived))"
   ]
  },
  {
   "cell_type": "code",
   "execution_count": 10,
   "metadata": {},
   "outputs": [
    {
     "data": {
      "text/plain": [
       "<matplotlib.axes._subplots.AxesSubplot at 0x7f9d549bd9e8>"
      ]
     },
     "execution_count": 10,
     "metadata": {},
     "output_type": "execute_result"
    },
    {
     "data": {
      "image/png": "[encoded data removed]",
      "text/plain": [
       "<Figure size 432x288 with 1 Axes>"
      ]
     },
     "metadata": {
      "needs_background": "light"
     },
     "output_type": "display_data"
    }
   ],
   "source": [
    "sns.barplot(x='Sex', y='Survived', data=train)"
   ]
  },
  {
   "cell_type": "markdown",
   "metadata": {},
   "source": [
    "#### Q11 - Age vs Survived"
   ]
  },
  {
   "cell_type": "code",
   "execution_count": 11,
   "metadata": {},
   "outputs": [
    {
     "data": {
      "image/png": "[encoded data removed]",
      "text/plain": [
       "<Figure size 432x288 with 1 Axes>"
      ]
     },
     "metadata": {
      "needs_background": "light"
     },
     "output_type": "display_data"
    }
   ],
   "source": [
    "plt.hist(train[train['Survived']==0]['Age'], bins=20)\n",
    "plt.title('Survived = 0')\n",
    "plt.show()"
   ]
  },
  {
   "cell_type": "code",
   "execution_count": 12,
   "metadata": {},
   "outputs": [
    {
     "data": {
      "image/png": "[encoded data removed]",
      "text/plain": [
       "<Figure size 432x288 with 1 Axes>"
      ]
     },
     "metadata": {
      "needs_background": "light"
     },
     "output_type": "display_data"
    }
   ],
   "source": [
    "plt.hist(train[train['Survived']==1]['Age'], bins=20)\n",
    "plt.title('Survived = 1')\n",
    "plt.show()"
   ]
  },
  {
   "cell_type": "markdown",
   "metadata": {},
   "source": [
    "#### Q12 - Age and PClass vs Survived"
   ]
  },
  {
   "cell_type": "code",
   "execution_count": 13,
   "metadata": {},
   "outputs": [
    {
     "data": {
      "image/png": "[encoded data removed]",
      "text/plain": [
       "<Figure size 440x648 with 6 Axes>"
      ]
     },
     "metadata": {
      "needs_background": "light"
     },
     "output_type": "display_data"
    }
   ],
   "source": [
    "grid = sns.FacetGrid(train, col='Survived', row='Pclass')\n",
    "grid.map(plt.hist, 'Age', bins=20)\n",
    "grid.add_legend()\n",
    "plt.show()"
   ]
  },
  {
   "cell_type": "markdown",
   "metadata": {},
   "source": [
    "\n",
    "#### Q13 - Embarked, Fare, and Gender vs Survival"
   ]
  },
  {
   "cell_type": "code",
   "execution_count": 14,
   "metadata": {},
   "outputs": [
    {
     "data": {
      "image/png": "[encoded data removed]",
      "text/plain": [
       "<Figure size 440x648 with 6 Axes>"
      ]
     },
     "metadata": {
      "needs_background": "light"
     },
     "output_type": "display_data"
    }
   ],
   "source": [
    "grouped = train.groupby(['Survived', 'Embarked', 'Sex']).mean().reset_index()\n",
    "grid = sns.FacetGrid(grouped, col='Survived', row='Embarked')\n",
    "grid.map(plt.bar, 'Sex', 'Fare')\n",
    "grid.add_legend()\n",
    "plt.show()"
   ]
  },
  {
   "cell_type": "markdown",
   "metadata": {},
   "source": [
    "#### Q14 - Ticket duplicate values"
   ]
  },
  {
   "cell_type": "code",
   "execution_count": 15,
   "metadata": {},
   "outputs": [
    {
     "name": "stdout",
     "output_type": "stream",
     "text": [
      "29.03% of the tickets are duplicates\n"
     ]
    }
   ],
   "source": [
    "dup = combined['Ticket'].duplicated().sum() / len(combined['Ticket'])\n",
    "\n",
    "print('{}% of the tickets are duplicates'.\n",
    "      format(round(dup*100, 2)))"
   ]
  },
  {
   "cell_type": "code",
   "execution_count": 16,
   "metadata": {},
   "outputs": [
    {
     "data": {
      "text/plain": [
       "<matplotlib.axes._subplots.AxesSubplot at 0x7f9d543d0470>"
      ]
     },
     "execution_count": 16,
     "metadata": {},
     "output_type": "execute_result"
    },
    {
     "data": {
      "image/png": "[encoded data removed]",
      "text/plain": [
       "<Figure size 432x288 with 1 Axes>"
      ]
     },
     "metadata": {
      "needs_background": "light"
     },
     "output_type": "display_data"
    }
   ],
   "source": [
    "train.groupby('Ticket').mean()['Survived'].plot()"
   ]
  },
  {
   "cell_type": "markdown",
   "metadata": {},
   "source": [
    "#### Q15 - Missing values for the Cabin feature"
   ]
  },
  {
   "cell_type": "code",
   "execution_count": 18,
   "metadata": {},
   "outputs": [
    {
     "name": "stdout",
     "output_type": "stream",
     "text": [
      "1014, or 77.46%, of the cabin numbers are missing\n"
     ]
    }
   ],
   "source": [
    "null_cabins = combined['Cabin'].isnull().sum()\n",
    "percent_missing = null_cabins / len(combined['Cabin'])\n",
    "\n",
    "print('{}, or {}%, of the cabin numbers are missing'.\n",
    "      format(null_cabins, round(percent_missing*100, 2)))"
   ]
  },
  {
   "cell_type": "markdown",
   "metadata": {},
   "source": [
    "#### Q16 - Gender to integer"
   ]
  },
  {
   "cell_type": "code",
   "execution_count": 19,
   "metadata": {
    "scrolled": true
   },
   "outputs": [],
   "source": [
    "combined['Gender'] = np.where(combined['Sex']=='female', 1, 0)\n",
    "combined.drop(['Sex'], axis=1, inplace=True)"
   ]
  },
  {
   "cell_type": "code",
   "execution_count": 20,
   "metadata": {},
   "outputs": [
    {
     "data": {
      "text/plain": [
       "array([0, 1])"
      ]
     },
     "execution_count": 20,
     "metadata": {},
     "output_type": "execute_result"
    }
   ],
   "source": [
    "combined['Gender'].unique()"
   ]
  },
  {
   "cell_type": "markdown",
   "metadata": {},
   "source": [
    "#### Q17 - fill missing age values with knn neighbors"
   ]
  },
  {
   "cell_type": "code",
   "execution_count": 21,
   "metadata": {},
   "outputs": [
    {
     "name": "stdout",
     "output_type": "stream",
     "text": [
      "Number of missing age values:  263\n"
     ]
    }
   ],
   "source": [
    "print('Number of missing age values: ', \n",
    "      combined['Age'].isnull().sum())"
   ]
  },
  {
   "cell_type": "code",
   "execution_count": 22,
   "metadata": {},
   "outputs": [],
   "source": [
    "# Drop irrelevant categorical data\n",
    "drop_cols = ['Name', 'Ticket', 'Cabin', 'PassengerId']\n",
    "knn_train = combined.drop(drop_cols, axis=1, inplace=False)\n",
    "\n",
    "# Drop null rows\n",
    "temp = knn_train.dropna(axis=0, inplace=False)\n",
    "\n",
    "x = temp.drop('Age', axis=1)\n",
    "y = temp['Age'].astype(int)\n",
    "del temp\n",
    "\n",
    "embarked_dict = {'S': 0, 'C': 1, 'Q': 2, None: 0}\n",
    "# Convert embarked to numerical\n",
    "x['Embarked'] = np.where(x['Embarked'] == 'S', 0, \n",
    "                            np.where(x['Embarked'] == 'C', 1, 2))"
   ]
  },
  {
   "cell_type": "code",
   "execution_count": 23,
   "metadata": {},
   "outputs": [
    {
     "data": {
      "text/plain": [
       "KNeighborsClassifier(algorithm='auto', leaf_size=30, metric='minkowski',\n",
       "           metric_params=None, n_jobs=None, n_neighbors=5, p=2,\n",
       "           weights='uniform')"
      ]
     },
     "execution_count": 23,
     "metadata": {},
     "output_type": "execute_result"
    }
   ],
   "source": [
    "# Create and fit KNN\n",
    "knn = KNeighborsClassifier(n_neighbors=5)\n",
    "knn.fit(x, y)"
   ]
  },
  {
   "cell_type": "code",
   "execution_count": 24,
   "metadata": {},
   "outputs": [],
   "source": [
    "# Loop through each row and replace missing age values with the average\n",
    "# age of the data points 5 nearest neighbors\n",
    "for i, row in combined.iterrows():\n",
    "    if pd.isnull(row['Age']):\n",
    "        row_data = row.drop(drop_cols + ['Age'], inplace=False)\n",
    "        row_data['Embarked'] = embarked_dict[row_data['Embarked']]\n",
    "        age_fill = knn.predict(np.array(row_data).reshape(1,-1))\n",
    "        combined['Age'][i] =  age_fill"
   ]
  },
  {
   "cell_type": "code",
   "execution_count": 25,
   "metadata": {},
   "outputs": [
    {
     "name": "stdout",
     "output_type": "stream",
     "text": [
      "Number of missing age values after filling:  0\n"
     ]
    }
   ],
   "source": [
    "print('Number of missing age values after filling: ', \n",
    "      combined['Age'].isnull().sum())"
   ]
  },
  {
   "cell_type": "markdown",
   "metadata": {},
   "source": [
    "#### Q18 - fill missing embarked values"
   ]
  },
  {
   "cell_type": "code",
   "execution_count": 26,
   "metadata": {},
   "outputs": [
    {
     "name": "stdout",
     "output_type": "stream",
     "text": [
      "S    914\n",
      "C    270\n",
      "Q    123\n",
      "Name: Embarked, dtype: int64\n",
      "S\n"
     ]
    }
   ],
   "source": [
    "print(combined['Embarked'].value_counts())\n",
    "print(combined['Embarked'].value_counts().idxmax())"
   ]
  },
  {
   "cell_type": "code",
   "execution_count": 27,
   "metadata": {},
   "outputs": [
    {
     "name": "stdout",
     "output_type": "stream",
     "text": [
      "Number of missing embarked values:  2\n"
     ]
    }
   ],
   "source": [
    "print('Number of missing embarked values: ', \n",
    "      combined['Embarked'].isnull().sum())"
   ]
  },
  {
   "cell_type": "code",
   "execution_count": 28,
   "metadata": {},
   "outputs": [],
   "source": [
    "combined['Embarked'].fillna('S', inplace=True)"
   ]
  },
  {
   "cell_type": "code",
   "execution_count": 29,
   "metadata": {},
   "outputs": [
    {
     "name": "stdout",
     "output_type": "stream",
     "text": [
      "Number of missing embarked values after filling  0\n"
     ]
    }
   ],
   "source": [
    "print('Number of missing embarked values after filling ', \n",
    "      combined['Embarked'].isnull().sum())"
   ]
  },
  {
   "cell_type": "markdown",
   "metadata": {},
   "source": [
    "#### Q19 - fill missing fare values"
   ]
  },
  {
   "cell_type": "code",
   "execution_count": 30,
   "metadata": {},
   "outputs": [
    {
     "name": "stdout",
     "output_type": "stream",
     "text": [
      "The most common fare value is:  8.05\n"
     ]
    }
   ],
   "source": [
    "print('The most common fare value is: ', combined['Fare'].mode()[0])"
   ]
  },
  {
   "cell_type": "code",
   "execution_count": 31,
   "metadata": {},
   "outputs": [
    {
     "name": "stdout",
     "output_type": "stream",
     "text": [
      "Number of missing fare values: after filling  1\n"
     ]
    }
   ],
   "source": [
    "print('Number of missing fare values: after filling ', \n",
    "      combined['Fare'].isnull().sum())"
   ]
  },
  {
   "cell_type": "code",
   "execution_count": 32,
   "metadata": {},
   "outputs": [],
   "source": [
    "combined['Fare'].fillna(combined['Fare'].mode()[0], inplace=True)"
   ]
  },
  {
   "cell_type": "code",
   "execution_count": 33,
   "metadata": {},
   "outputs": [
    {
     "name": "stdout",
     "output_type": "stream",
     "text": [
      "Number of missing fare values after filling  0\n"
     ]
    }
   ],
   "source": [
    "print('Number of missing fare values after filling ', \n",
    "      combined['Fare'].isnull().sum())"
   ]
  },
  {
   "cell_type": "markdown",
   "metadata": {},
   "source": [
    "#### Q20 - Converting fare feature to ordinal datatype"
   ]
  },
  {
   "cell_type": "code",
   "execution_count": 34,
   "metadata": {},
   "outputs": [],
   "source": [
    "combined['Fare'] = np.where(combined['Fare'] < 7.91, 0, \n",
    "                           np.where(combined['Fare'] < 14.454, 1,\n",
    "                                    np.where(combined['Fare'] < 31.0, 2, 3)))"
   ]
  },
  {
   "cell_type": "code",
   "execution_count": 35,
   "metadata": {},
   "outputs": [
    {
     "name": "stdout",
     "output_type": "stream",
     "text": [
      "Fare values:  [0, 1, 2, 3]\n"
     ]
    }
   ],
   "source": [
    "print('Fare values: ', sorted(combined['Fare'].unique()))"
   ]
  }
 ],
 "metadata": {
  "kernelspec": {
   "display_name": "Python 3",
   "language": "python",
   "name": "python3"
  },
  "language_info": {
   "codemirror_mode": {
    "name": "ipython",
    "version": 3
   },
   "file_extension": ".py",
   "mimetype": "text/x-python",
   "name": "python",
   "nbconvert_exporter": "python",
   "pygments_lexer": "ipython3",
   "version": "3.7.3"
  }
 },
 "nbformat": 4,
 "nbformat_minor": 2
}
