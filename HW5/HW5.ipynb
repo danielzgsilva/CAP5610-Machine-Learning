{
 "cells": [
  {
   "cell_type": "code",
   "execution_count": 1,
   "metadata": {},
   "outputs": [],
   "source": [
    "import pandas as pd\n",
    "import matplotlib.pyplot as plt\n",
    "\n",
    "from sklearn import tree\n",
    "from sklearn.tree import DecisionTreeClassifier\n",
    "from sklearn.neighbors import KNeighborsClassifier\n",
    "from sklearn.model_selection import KFold\n",
    "from sklearn.datasets import load_iris\n",
    "from sklearn import metrics"
   ]
  },
  {
   "cell_type": "code",
   "execution_count": 2,
   "metadata": {},
   "outputs": [],
   "source": [
    "# Load iris dataset\n",
    "\n",
    "iris = load_iris()"
   ]
  },
  {
   "cell_type": "code",
   "execution_count": 3,
   "metadata": {},
   "outputs": [],
   "source": [
    "# Create dataframe \n",
    "\n",
    "X = pd.DataFrame(data = iris.data, columns = iris.feature_names)\n",
    "Y = pd.Series(data = iris.target, name = 'Class')"
   ]
  },
  {
   "cell_type": "code",
   "execution_count": 4,
   "metadata": {},
   "outputs": [
    {
     "data": {
      "text/html": [
       "<div>\n",
       "<style scoped>\n",
       "    .dataframe tbody tr th:only-of-type {\n",
       "        vertical-align: middle;\n",
       "    }\n",
       "\n",
       "    .dataframe tbody tr th {\n",
       "        vertical-align: top;\n",
       "    }\n",
       "\n",
       "    .dataframe thead th {\n",
       "        text-align: right;\n",
       "    }\n",
       "</style>\n",
       "<table border=\"1\" class=\"dataframe\">\n",
       "  <thead>\n",
       "    <tr style=\"text-align: right;\">\n",
       "      <th></th>\n",
       "      <th>sepal length (cm)</th>\n",
       "      <th>sepal width (cm)</th>\n",
       "      <th>petal length (cm)</th>\n",
       "      <th>petal width (cm)</th>\n",
       "    </tr>\n",
       "  </thead>\n",
       "  <tbody>\n",
       "    <tr>\n",
       "      <th>0</th>\n",
       "      <td>5.1</td>\n",
       "      <td>3.5</td>\n",
       "      <td>1.4</td>\n",
       "      <td>0.2</td>\n",
       "    </tr>\n",
       "    <tr>\n",
       "      <th>1</th>\n",
       "      <td>4.9</td>\n",
       "      <td>3.0</td>\n",
       "      <td>1.4</td>\n",
       "      <td>0.2</td>\n",
       "    </tr>\n",
       "    <tr>\n",
       "      <th>2</th>\n",
       "      <td>4.7</td>\n",
       "      <td>3.2</td>\n",
       "      <td>1.3</td>\n",
       "      <td>0.2</td>\n",
       "    </tr>\n",
       "    <tr>\n",
       "      <th>3</th>\n",
       "      <td>4.6</td>\n",
       "      <td>3.1</td>\n",
       "      <td>1.5</td>\n",
       "      <td>0.2</td>\n",
       "    </tr>\n",
       "    <tr>\n",
       "      <th>4</th>\n",
       "      <td>5.0</td>\n",
       "      <td>3.6</td>\n",
       "      <td>1.4</td>\n",
       "      <td>0.2</td>\n",
       "    </tr>\n",
       "  </tbody>\n",
       "</table>\n",
       "</div>"
      ],
      "text/plain": [
       "   sepal length (cm)  sepal width (cm)  petal length (cm)  petal width (cm)\n",
       "0                5.1               3.5                1.4               0.2\n",
       "1                4.9               3.0                1.4               0.2\n",
       "2                4.7               3.2                1.3               0.2\n",
       "3                4.6               3.1                1.5               0.2\n",
       "4                5.0               3.6                1.4               0.2"
      ]
     },
     "execution_count": 4,
     "metadata": {},
     "output_type": "execute_result"
    }
   ],
   "source": [
    "X.head()"
   ]
  },
  {
   "cell_type": "code",
   "execution_count": 5,
   "metadata": {},
   "outputs": [],
   "source": [
    "num_folds = 100\n",
    "kf = KFold(n_splits = num_folds, shuffle=True)"
   ]
  },
  {
   "cell_type": "code",
   "execution_count": 6,
   "metadata": {},
   "outputs": [],
   "source": [
    "def train_tree(x, y):\n",
    "    tree = DecisionTreeClassifier(min_impurity_decrease=0.1)\n",
    "    tree.fit(x, y)\n",
    "    \n",
    "    return tree\n",
    "\n",
    "def train_knn(x, y, k):\n",
    "    knn = KNeighborsClassifier(n_neighbors=k)\n",
    "    knn.fit(x, y)\n",
    "    \n",
    "    return knn\n",
    "\n",
    "def test_model(model, x, y):\n",
    "    # Predict using model\n",
    "    preds = model.predict(x)\n",
    "    \n",
    "    # Calculate and document accuracy\n",
    "    acc = round(sum(y == preds) / len(preds), 2)\n",
    "    \n",
    "    return preds, acc"
   ]
  },
  {
   "cell_type": "code",
   "execution_count": 7,
   "metadata": {},
   "outputs": [],
   "source": [
    "# Track accuracies in each fold\n",
    "tree_accs = []\n",
    "\n",
    "max_neighbors = 50\n",
    "knn_accs = {k: [] for k in range(1, max_neighbors + 1)}"
   ]
  },
  {
   "cell_type": "code",
   "execution_count": 8,
   "metadata": {},
   "outputs": [],
   "source": [
    "# Loop through folds\n",
    "for i, idxs in enumerate(kf.split(X, Y)):\n",
    "   \n",
    "    # Grab training and testing data\n",
    "    train_index, test_index = idxs\n",
    "    \n",
    "    x_train, x_test = X.iloc[train_index], X.iloc[test_index]\n",
    "    y_train, y_test = Y[train_index], Y[test_index]\n",
    "    \n",
    "    # Fit a decision tree\n",
    "    dec_tree = train_tree(x_train, y_train)\n",
    "    \n",
    "    # Test decision tree\n",
    "    preds, tree_acc = test_model(dec_tree, x_test, y_test)\n",
    "    \n",
    "    # Document accuracy\n",
    "    tree_accs.append(tree_acc)\n",
    "    \n",
    "    # Try KNN classifier with k vales 1-50\n",
    "    for k in range(1, max_neighbors + 1): \n",
    "        knn = train_knn(x_train, y_train, k)\n",
    "\n",
    "        # Test KNN\n",
    "        preds, knn_acc = test_model(knn, x_test, y_test)\n",
    "\n",
    "        # Document accuracy for each KNN model\n",
    "        knn_accs[k].append(knn_acc)"
   ]
  },
  {
   "cell_type": "code",
   "execution_count": 9,
   "metadata": {},
   "outputs": [],
   "source": [
    "# Average accuracies for each fold\n",
    "for k in knn_accs.keys():\n",
    "    knn_accs[k] = round(sum(knn_accs[k]) / len(knn_accs[k]), 2)\n",
    "\n",
    "# Find best k value \n",
    "best_k = 0\n",
    "best_acc = 0\n",
    "for k in knn_accs.keys():\n",
    "    if knn_accs[k] > best_acc:\n",
    "        best_acc = knn_accs[k]\n",
    "        best_k = k"
   ]
  },
  {
   "cell_type": "code",
   "execution_count": 10,
   "metadata": {},
   "outputs": [
    {
     "name": "stdout",
     "output_type": "stream",
     "text": [
      "Decision tree accuracy: 0.94\n"
     ]
    }
   ],
   "source": [
    "tree_avg_acc = round(sum(tree_accs) / len(tree_accs), 2)\n",
    "\n",
    "print('Decision tree accuracy: {}'.format(tree_avg_acc))"
   ]
  },
  {
   "cell_type": "code",
   "execution_count": 11,
   "metadata": {},
   "outputs": [
    {
     "name": "stdout",
     "output_type": "stream",
     "text": [
      "Best K value: 14\n",
      "KNN classifier accuracy: 0.98\n"
     ]
    }
   ],
   "source": [
    "print('Best K value: {}'.format(best_k))\n",
    "print('KNN classifier accuracy: {}'.format(best_acc))"
   ]
  },
  {
   "cell_type": "code",
   "execution_count": 12,
   "metadata": {},
   "outputs": [
    {
     "data": {
      "image/png": "[encoded data removed]",
      "text/plain": [
       "<Figure size 432x288 with 1 Axes>"
      ]
     },
     "metadata": {
      "needs_background": "light"
     },
     "output_type": "display_data"
    }
   ],
   "source": [
    "plt.bar(list(knn_accs.keys()), list(knn_accs.values()))\n",
    "plt.title('Comparing accuracies of KNN models with k values 1-50')\n",
    "plt.show()"
   ]
  },
  {
   "cell_type": "code",
   "execution_count": 13,
   "metadata": {},
   "outputs": [
    {
     "data": {
      "image/png": "[encoded data removed]",
      "text/plain": [
       "<Figure size 432x288 with 1 Axes>"
      ]
     },
     "metadata": {
      "needs_background": "light"
     },
     "output_type": "display_data"
    }
   ],
   "source": [
    "plt.plot(list(knn_accs.keys()), list(knn_accs.values()))\n",
    "plt.title('Comparing accuracies of KNN models with k values 1-50')\n",
    "plt.show()"
   ]
  },
  {
   "cell_type": "code",
   "execution_count": 14,
   "metadata": {},
   "outputs": [
    {
     "data": {
      "image/png": "[encoded data removed]",
      "text/plain": [
       "<Figure size 432x288 with 1 Axes>"
      ]
     },
     "metadata": {
      "needs_background": "light"
     },
     "output_type": "display_data"
    }
   ],
   "source": [
    "plt.plot(list(knn_accs.keys())[:25], list(knn_accs.values())[:25])\n",
    "plt.title('Comparing accuracies k values 1-25')\n",
    "plt.show()"
   ]
  },
  {
   "cell_type": "code",
   "execution_count": 15,
   "metadata": {},
   "outputs": [
    {
     "data": {
      "image/png": "[encoded data removed]",
      "text/plain": [
       "<Figure size 432x288 with 1 Axes>"
      ]
     },
     "metadata": {
      "needs_background": "light"
     },
     "output_type": "display_data"
    }
   ],
   "source": [
    "plt.bar(['Decision Tree', 'KNN Classifier'], [tree_avg_acc, knn_accs[best_k]])\n",
    "plt.title('Comparing the accuracy of the decision tree and KNN models')\n",
    "plt.show()"
   ]
  },
  {
   "cell_type": "code",
   "execution_count": 17,
   "metadata": {},
   "outputs": [
    {
     "name": "stdout",
     "output_type": "stream",
     "text": [
      "Tree acc:  0.94\n",
      "KNN acc:  0.98\n"
     ]
    }
   ],
   "source": [
    "print('Tree acc: ', tree_avg_acc)\n",
    "print('KNN acc: ', knn_accs[best_k])"
   ]
  }
 ],
 "metadata": {
  "kernelspec": {
   "display_name": "Python 3",
   "language": "python",
   "name": "python3"
  },
  "language_info": {
   "codemirror_mode": {
    "name": "ipython",
    "version": 3
   },
   "file_extension": ".py",
   "mimetype": "text/x-python",
   "name": "python",
   "nbconvert_exporter": "python",
   "pygments_lexer": "ipython3",
   "version": "3.8.1"
  }
 },
 "nbformat": 4,
 "nbformat_minor": 4
}
