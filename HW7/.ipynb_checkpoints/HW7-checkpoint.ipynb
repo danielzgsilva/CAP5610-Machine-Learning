{
 "cells": [
  {
   "cell_type": "code",
   "execution_count": 144,
   "metadata": {
    "scrolled": false
   },
   "outputs": [],
   "source": [
    "import numpy as np\n",
    "import pandas as pd\n",
    "import matplotlib.pyplot as plt\n",
    "\n",
    "from surprise import Dataset, Reader\n",
    "from surprise.model_selection.split import KFold\n",
    "from surprise import SVD, NMF, KNNBasic\n",
    "from surprise.model_selection import cross_validate\n",
    "\n",
    "import os"
   ]
  },
  {
   "cell_type": "code",
   "execution_count": 145,
   "metadata": {
    "scrolled": false
   },
   "outputs": [],
   "source": [
    "file_path = os.path.expanduser('restaurant_ratings.txt')"
   ]
  },
  {
   "cell_type": "code",
   "execution_count": 146,
   "metadata": {
    "scrolled": false
   },
   "outputs": [],
   "source": [
    "# Load data from file\n",
    "\n",
    "reader = Reader(line_format='user item rating timestamp', sep='\\t')\n",
    "data = Dataset.load_from_file(file_path, reader=reader)"
   ]
  },
  {
   "cell_type": "markdown",
   "metadata": {},
   "source": [
    "### Comparing Recommender System Algorithms\n",
    " - Single Value Decomposition\n",
    " - Probabilistic Matrix Factorization\n",
    " - Non-Negative Probabilistic Matrix Factorization\n",
    " - User Based Collaborative Filtering\n",
    " - Item Based Collaborative Filtering"
   ]
  },
  {
   "cell_type": "code",
   "execution_count": 147,
   "metadata": {
    "scrolled": false
   },
   "outputs": [],
   "source": [
    "# Splitting dataset for 3-folds cross validation\n",
    "\n",
    "folds = KFold(n_splits = 3, random_state = 0)"
   ]
  },
  {
   "cell_type": "code",
   "execution_count": 5,
   "metadata": {
    "scrolled": false
   },
   "outputs": [],
   "source": [
    "# This dictionary will be used to document the performance\n",
    "# of each algorithm\n",
    "\n",
    "outputs = {}"
   ]
  },
  {
   "cell_type": "code",
   "execution_count": 6,
   "metadata": {
    "scrolled": false
   },
   "outputs": [
    {
     "name": "stdout",
     "output_type": "stream",
     "text": [
      "Evaluating MAE, RMSE of algorithm SVD on 3 split(s).\n",
      "\n",
      "                  Fold 1  Fold 2  Fold 3  Mean    Std     \n",
      "MAE (testset)     0.7494  0.7423  0.7500  0.7472  0.0035  \n",
      "RMSE (testset)    0.9500  0.9395  0.9508  0.9467  0.0051  \n",
      "Fit time          2.48    2.52    2.55    2.52    0.03    \n",
      "Test time         0.18    0.17    0.18    0.18    0.00    \n"
     ]
    }
   ],
   "source": [
    "# Using Single Value Decomposition algorithm\n",
    "\n",
    "algo = SVD()\n",
    "\n",
    "# Running 3-fold cross validation with MAE and RMSE metrics\n",
    "output = cross_validate(algo, data, measures=['MAE', 'RMSE'], \n",
    "               cv=folds, verbose=True)\n",
    "\n",
    "outputs['SVD'] = output"
   ]
  },
  {
   "cell_type": "code",
   "execution_count": 7,
   "metadata": {
    "scrolled": false
   },
   "outputs": [
    {
     "name": "stdout",
     "output_type": "stream",
     "text": [
      "Evaluating MAE, RMSE of algorithm SVD on 3 split(s).\n",
      "\n",
      "                  Fold 1  Fold 2  Fold 3  Mean    Std     \n",
      "MAE (testset)     0.7613  0.7577  0.7658  0.7616  0.0033  \n",
      "RMSE (testset)    0.9666  0.9605  0.9710  0.9660  0.0043  \n",
      "Fit time          2.49    2.44    2.40    2.44    0.04    \n",
      "Test time         0.15    0.15    0.15    0.15    0.00    \n"
     ]
    }
   ],
   "source": [
    "# Using Probabilistic Matrix Factorization algorithm\n",
    "\n",
    "algo = SVD(biased = False)\n",
    "\n",
    "output = cross_validate(algo, data, measures=['MAE', 'RMSE'], \n",
    "               cv=folds, verbose=True)\n",
    "\n",
    "outputs['PMF'] = output"
   ]
  },
  {
   "cell_type": "code",
   "execution_count": 8,
   "metadata": {
    "scrolled": false
   },
   "outputs": [
    {
     "name": "stdout",
     "output_type": "stream",
     "text": [
      "Evaluating MAE, RMSE of algorithm NMF on 3 split(s).\n",
      "\n",
      "                  Fold 1  Fold 2  Fold 3  Mean    Std     \n",
      "MAE (testset)     0.7689  0.7634  0.7722  0.7682  0.0036  \n",
      "RMSE (testset)    0.9799  0.9718  0.9831  0.9783  0.0047  \n",
      "Fit time          2.77    2.72    2.62    2.70    0.06    \n",
      "Test time         0.15    0.15    0.15    0.15    0.00    \n"
     ]
    }
   ],
   "source": [
    "# Using Non-Negative Probabilistic Matrix Factorization algorithm\n",
    "\n",
    "algo = NMF()\n",
    "\n",
    "output = cross_validate(algo, data, measures=['MAE', 'RMSE'], \n",
    "               cv=folds, verbose=True)\n",
    "\n",
    "outputs['NMF'] = output"
   ]
  },
  {
   "cell_type": "code",
   "execution_count": 9,
   "metadata": {
    "scrolled": false
   },
   "outputs": [
    {
     "name": "stdout",
     "output_type": "stream",
     "text": [
      "Computing the msd similarity matrix...\n",
      "Done computing similarity matrix.\n",
      "Computing the msd similarity matrix...\n",
      "Done computing similarity matrix.\n",
      "Computing the msd similarity matrix...\n",
      "Done computing similarity matrix.\n",
      "Evaluating MAE, RMSE of algorithm KNNBasic on 3 split(s).\n",
      "\n",
      "                  Fold 1  Fold 2  Fold 3  Mean    Std     \n",
      "MAE (testset)     0.7841  0.7760  0.7857  0.7820  0.0043  \n",
      "RMSE (testset)    0.9941  0.9832  0.9926  0.9899  0.0048  \n",
      "Fit time          0.16    0.17    0.16    0.16    0.00    \n",
      "Test time         3.21    3.21    3.23    3.22    0.01    \n"
     ]
    }
   ],
   "source": [
    "# Using User Based Collaborative Filtering algorithm\n",
    "\n",
    "algo = KNNBasic(sim_options={'user_based':True})\n",
    "\n",
    "output = cross_validate(algo, data, measures=['MAE', 'RMSE'], \n",
    "               cv=folds, verbose=True)\n",
    "\n",
    "outputs['UBCF'] = output"
   ]
  },
  {
   "cell_type": "code",
   "execution_count": 10,
   "metadata": {
    "scrolled": false
   },
   "outputs": [
    {
     "name": "stdout",
     "output_type": "stream",
     "text": [
      "Computing the msd similarity matrix...\n",
      "Done computing similarity matrix.\n",
      "Computing the msd similarity matrix...\n",
      "Done computing similarity matrix.\n",
      "Computing the msd similarity matrix...\n",
      "Done computing similarity matrix.\n",
      "Evaluating MAE, RMSE of algorithm KNNBasic on 3 split(s).\n",
      "\n",
      "                  Fold 1  Fold 2  Fold 3  Mean    Std     \n",
      "MAE (testset)     0.7813  0.7754  0.7863  0.7810  0.0045  \n",
      "RMSE (testset)    0.9872  0.9787  0.9937  0.9865  0.0061  \n",
      "Fit time          0.26    0.27    0.27    0.26    0.01    \n",
      "Test time         3.59    3.66    3.70    3.65    0.05    \n"
     ]
    }
   ],
   "source": [
    "# Using Item Based Collaborative Filtering algorithm\n",
    "\n",
    "algo = KNNBasic(sim_options={'user_based':False})\n",
    "\n",
    "output = cross_validate(algo, data, measures=['MAE', 'RMSE'], \n",
    "               cv=folds, verbose=True)\n",
    "\n",
    "outputs['IBCF'] = output"
   ]
  },
  {
   "cell_type": "code",
   "execution_count": 159,
   "metadata": {},
   "outputs": [],
   "source": [
    "def build_dataframe(outputs):\n",
    "    data = {'Fold_1_MAE': [], 'Fold_1_RMSE': [], \n",
    "        'Fold_2_MAE': [], 'Fold_2_RMSE': [],\n",
    "        'Fold_3_MAE': [], 'Fold_3_RMSE': []}\n",
    "    \n",
    "    for i, alg in enumerate(outputs.keys()):\n",
    "        data['Fold_1_MAE'].append(outputs[alg]['test_mae'][0])\n",
    "        data['Fold_1_RMSE'].append(outputs[alg]['test_rmse'][0])\n",
    "\n",
    "        data['Fold_2_MAE'].append(outputs[alg]['test_mae'][1])\n",
    "        data['Fold_2_RMSE'].append(outputs[alg]['test_rmse'][1])\n",
    "\n",
    "        data['Fold_3_MAE'].append(outputs[alg]['test_mae'][2])\n",
    "        data['Fold_3_RMSE'].append(outputs[alg]['test_rmse'][2])\n",
    "\n",
    "    df = pd.DataFrame(data, index = outputs.keys())\n",
    "    \n",
    "    # Calculating average metrics \n",
    "    df['Avg_MAE'] = (df['Fold_1_MAE'] + \n",
    "                         df['Fold_2_MAE'] + \n",
    "                         df['Fold_3_MAE']) / 3\n",
    "\n",
    "    df['Avg_RMSE'] = (df['Fold_1_RMSE'] + \n",
    "                         df['Fold_2_RMSE'] + \n",
    "                         df['Fold_3_RMSE']) / 3\n",
    "\n",
    "    return df"
   ]
  },
  {
   "cell_type": "code",
   "execution_count": 111,
   "metadata": {
    "scrolled": false
   },
   "outputs": [
    {
     "data": {
      "text/html": [
       "<div>\n",
       "<style scoped>\n",
       "    .dataframe tbody tr th:only-of-type {\n",
       "        vertical-align: middle;\n",
       "    }\n",
       "\n",
       "    .dataframe tbody tr th {\n",
       "        vertical-align: top;\n",
       "    }\n",
       "\n",
       "    .dataframe thead th {\n",
       "        text-align: right;\n",
       "    }\n",
       "</style>\n",
       "<table border=\"1\" class=\"dataframe\">\n",
       "  <thead>\n",
       "    <tr style=\"text-align: right;\">\n",
       "      <th></th>\n",
       "      <th>Fold_1_MAE</th>\n",
       "      <th>Fold_1_RMSE</th>\n",
       "      <th>Fold_2_MAE</th>\n",
       "      <th>Fold_2_RMSE</th>\n",
       "      <th>Fold_3_MAE</th>\n",
       "      <th>Fold_3_RMSE</th>\n",
       "      <th>Avg_MAE</th>\n",
       "      <th>Avg_RMSE</th>\n",
       "    </tr>\n",
       "  </thead>\n",
       "  <tbody>\n",
       "    <tr>\n",
       "      <td>SVD</td>\n",
       "      <td>0.749404</td>\n",
       "      <td>0.949970</td>\n",
       "      <td>0.742299</td>\n",
       "      <td>0.939484</td>\n",
       "      <td>0.749955</td>\n",
       "      <td>0.950782</td>\n",
       "      <td>0.747219</td>\n",
       "      <td>0.946745</td>\n",
       "    </tr>\n",
       "    <tr>\n",
       "      <td>PMF</td>\n",
       "      <td>0.761321</td>\n",
       "      <td>0.966599</td>\n",
       "      <td>0.757729</td>\n",
       "      <td>0.960456</td>\n",
       "      <td>0.765755</td>\n",
       "      <td>0.971043</td>\n",
       "      <td>0.761602</td>\n",
       "      <td>0.966033</td>\n",
       "    </tr>\n",
       "    <tr>\n",
       "      <td>NMF</td>\n",
       "      <td>0.768940</td>\n",
       "      <td>0.979868</td>\n",
       "      <td>0.763435</td>\n",
       "      <td>0.971838</td>\n",
       "      <td>0.772163</td>\n",
       "      <td>0.983131</td>\n",
       "      <td>0.768179</td>\n",
       "      <td>0.978279</td>\n",
       "    </tr>\n",
       "    <tr>\n",
       "      <td>UBCF</td>\n",
       "      <td>0.784130</td>\n",
       "      <td>0.994084</td>\n",
       "      <td>0.775987</td>\n",
       "      <td>0.983170</td>\n",
       "      <td>0.785744</td>\n",
       "      <td>0.992551</td>\n",
       "      <td>0.781954</td>\n",
       "      <td>0.989935</td>\n",
       "    </tr>\n",
       "    <tr>\n",
       "      <td>IBCF</td>\n",
       "      <td>0.781349</td>\n",
       "      <td>0.987246</td>\n",
       "      <td>0.775426</td>\n",
       "      <td>0.978683</td>\n",
       "      <td>0.786314</td>\n",
       "      <td>0.993656</td>\n",
       "      <td>0.781030</td>\n",
       "      <td>0.986528</td>\n",
       "    </tr>\n",
       "  </tbody>\n",
       "</table>\n",
       "</div>"
      ],
      "text/plain": [
       "      Fold_1_MAE  Fold_1_RMSE  Fold_2_MAE  Fold_2_RMSE  Fold_3_MAE  \\\n",
       "SVD     0.749404     0.949970    0.742299     0.939484    0.749955   \n",
       "PMF     0.761321     0.966599    0.757729     0.960456    0.765755   \n",
       "NMF     0.768940     0.979868    0.763435     0.971838    0.772163   \n",
       "UBCF    0.784130     0.994084    0.775987     0.983170    0.785744   \n",
       "IBCF    0.781349     0.987246    0.775426     0.978683    0.786314   \n",
       "\n",
       "      Fold_3_RMSE   Avg_MAE  Avg_RMSE  \n",
       "SVD      0.950782  0.747219  0.946745  \n",
       "PMF      0.971043  0.761602  0.966033  \n",
       "NMF      0.983131  0.768179  0.978279  \n",
       "UBCF     0.992551  0.781954  0.989935  \n",
       "IBCF     0.993656  0.781030  0.986528  "
      ]
     },
     "execution_count": 111,
     "metadata": {},
     "output_type": "execute_result"
    }
   ],
   "source": [
    "# Final evaluation dataframe\n",
    "\n",
    "eval_df = build_dataframe(outputs)\n",
    "eval_df"
   ]
  },
  {
   "cell_type": "code",
   "execution_count": 112,
   "metadata": {
    "scrolled": false
   },
   "outputs": [],
   "source": [
    "# Function to plot algorithm performance from the above dataframe\n",
    "\n",
    "def plot_perf(df, col):\n",
    "    plt.plot(df[col])\n",
    "    plt.title('{} among recommender system algorithms'.format(\n",
    "                                        col.replace('_', ' ')))\n",
    "    plt.show()"
   ]
  },
  {
   "cell_type": "code",
   "execution_count": 113,
   "metadata": {
    "scrolled": false
   },
   "outputs": [
    {
     "data": {
      "image/png": "[encoded data removed]",
      "text/plain": [
       "<Figure size 432x288 with 1 Axes>"
      ]
     },
     "metadata": {
      "needs_background": "light"
     },
     "output_type": "display_data"
    },
    {
     "data": {
      "image/png": "[encoded data removed]",
      "text/plain": [
       "<Figure size 432x288 with 1 Axes>"
      ]
     },
     "metadata": {
      "needs_background": "light"
     },
     "output_type": "display_data"
    },
    {
     "data": {
      "image/png": "[encoded data removed]",
      "text/plain": [
       "<Figure size 432x288 with 1 Axes>"
      ]
     },
     "metadata": {
      "needs_background": "light"
     },
     "output_type": "display_data"
    },
    {
     "data": {
      "image/png": "[encoded data removed]",
      "text/plain": [
       "<Figure size 432x288 with 1 Axes>"
      ]
     },
     "metadata": {
      "needs_background": "light"
     },
     "output_type": "display_data"
    },
    {
     "data": {
      "image/png": "[encoded data removed]",
      "text/plain": [
       "<Figure size 432x288 with 1 Axes>"
      ]
     },
     "metadata": {
      "needs_background": "light"
     },
     "output_type": "display_data"
    },
    {
     "data": {
      "image/png": "[encoded data removed]",
      "text/plain": [
       "<Figure size 432x288 with 1 Axes>"
      ]
     },
     "metadata": {
      "needs_background": "light"
     },
     "output_type": "display_data"
    },
    {
     "data": {
      "image/png": "[encoded data removed]",
      "text/plain": [
       "<Figure size 432x288 with 1 Axes>"
      ]
     },
     "metadata": {
      "needs_background": "light"
     },
     "output_type": "display_data"
    },
    {
     "data": {
      "image/png": "[encoded data removed]",
      "text/plain": [
       "<Figure size 432x288 with 1 Axes>"
      ]
     },
     "metadata": {
      "needs_background": "light"
     },
     "output_type": "display_data"
    }
   ],
   "source": [
    "# Plot algorithm performance on each split, and the averaged metrics\n",
    "\n",
    "for col in eval_df.columns:\n",
    "    plot_perf(eval_df, col)"
   ]
  },
  {
   "cell_type": "markdown",
   "metadata": {},
   "source": [
    "### Comparing Similarity Metrics for Collaborative Filtering\n",
    " - Cosine Similarity\n",
    " - Mean Squared Difference\n",
    " - Pearson Similarity"
   ]
  },
  {
   "cell_type": "code",
   "execution_count": 148,
   "metadata": {},
   "outputs": [],
   "source": [
    "UBCF_outputs = {}\n",
    "IBCF_outputs = {}"
   ]
  },
  {
   "cell_type": "code",
   "execution_count": 149,
   "metadata": {
    "scrolled": false
   },
   "outputs": [
    {
     "name": "stdout",
     "output_type": "stream",
     "text": [
      "Computing the cosine similarity matrix...\n",
      "Done computing similarity matrix.\n",
      "Computing the cosine similarity matrix...\n",
      "Done computing similarity matrix.\n",
      "Computing the cosine similarity matrix...\n",
      "Done computing similarity matrix.\n",
      "Evaluating MAE, RMSE of algorithm KNNBasic on 3 split(s).\n",
      "\n",
      "                  Fold 1  Fold 2  Fold 3  Mean    Std     \n",
      "MAE (testset)     0.8112  0.8031  0.8137  0.8093  0.0045  \n",
      "RMSE (testset)    1.0260  1.0163  1.0253  1.0225  0.0044  \n",
      "Fit time          0.57    0.57    0.57    0.57    0.00    \n",
      "Test time         3.53    3.47    3.55    3.52    0.04    \n",
      "Computing the cosine similarity matrix...\n",
      "Done computing similarity matrix.\n",
      "Computing the cosine similarity matrix...\n",
      "Done computing similarity matrix.\n",
      "Computing the cosine similarity matrix...\n",
      "Done computing similarity matrix.\n",
      "Evaluating MAE, RMSE of algorithm KNNBasic on 3 split(s).\n",
      "\n",
      "                  Fold 1  Fold 2  Fold 3  Mean    Std     \n",
      "MAE (testset)     0.8217  0.8196  0.8275  0.8229  0.0034  \n",
      "RMSE (testset)    1.0361  1.0313  1.0434  1.0369  0.0050  \n",
      "Fit time          0.96    0.97    0.98    0.97    0.01    \n",
      "Test time         3.89    4.15    4.00    4.01    0.11    \n"
     ]
    }
   ],
   "source": [
    "# Using cosine similarity\n",
    "\n",
    "algo = KNNBasic(sim_options={\n",
    "                        'name': 'cosine',\n",
    "                        'user_based': True\n",
    "                    })\n",
    "\n",
    "output = cross_validate(algo, data, measures=['MAE', 'RMSE'], \n",
    "               cv=folds, verbose=True)\n",
    "\n",
    "UBCF_outputs['Cosine_UBCF'] = output\n",
    "\n",
    "algo = KNNBasic(sim_options={\n",
    "                        'name': 'cosine',\n",
    "                        'user_based': False\n",
    "                    })\n",
    "\n",
    "output = cross_validate(algo, data, measures=['MAE', 'RMSE'], \n",
    "               cv=folds, verbose=True)\n",
    "\n",
    "IBCF_outputs['Cosine_IBCF'] = output"
   ]
  },
  {
   "cell_type": "code",
   "execution_count": 150,
   "metadata": {
    "scrolled": false
   },
   "outputs": [
    {
     "name": "stdout",
     "output_type": "stream",
     "text": [
      "Computing the msd similarity matrix...\n",
      "Done computing similarity matrix.\n",
      "Computing the msd similarity matrix...\n",
      "Done computing similarity matrix.\n",
      "Computing the msd similarity matrix...\n",
      "Done computing similarity matrix.\n",
      "Evaluating MAE, RMSE of algorithm KNNBasic on 3 split(s).\n",
      "\n",
      "                  Fold 1  Fold 2  Fold 3  Mean    Std     \n",
      "MAE (testset)     0.7841  0.7760  0.7857  0.7820  0.0043  \n",
      "RMSE (testset)    0.9941  0.9832  0.9926  0.9899  0.0048  \n",
      "Fit time          0.17    0.18    0.18    0.18    0.00    \n",
      "Test time         3.52    3.47    3.44    3.48    0.03    \n",
      "Computing the msd similarity matrix...\n",
      "Done computing similarity matrix.\n",
      "Computing the msd similarity matrix...\n",
      "Done computing similarity matrix.\n",
      "Computing the msd similarity matrix...\n",
      "Done computing similarity matrix.\n",
      "Evaluating MAE, RMSE of algorithm KNNBasic on 3 split(s).\n",
      "\n",
      "                  Fold 1  Fold 2  Fold 3  Mean    Std     \n",
      "MAE (testset)     0.7813  0.7754  0.7863  0.7810  0.0045  \n",
      "RMSE (testset)    0.9872  0.9787  0.9937  0.9865  0.0061  \n",
      "Fit time          0.26    0.29    0.28    0.28    0.01    \n",
      "Test time         3.89    3.97    3.95    3.94    0.04    \n"
     ]
    }
   ],
   "source": [
    "# Using mean squared difference similarity\n",
    "\n",
    "algo = KNNBasic(sim_options={\n",
    "                        'name': 'MSD',\n",
    "                        'user_based': True\n",
    "                    })\n",
    "\n",
    "output = cross_validate(algo, data, measures=['MAE', 'RMSE'], \n",
    "               cv=folds, verbose=True)\n",
    "\n",
    "UBCF_outputs['MSD_UBCF'] = output\n",
    "\n",
    "algo = KNNBasic(sim_options={\n",
    "                        'name': 'MSD',\n",
    "                        'user_based': False\n",
    "                    })\n",
    "\n",
    "output = cross_validate(algo, data, measures=['MAE', 'RMSE'], \n",
    "               cv=folds, verbose=True)\n",
    "\n",
    "IBCF_outputs['MSD_IBCF'] = output"
   ]
  },
  {
   "cell_type": "code",
   "execution_count": 151,
   "metadata": {
    "scrolled": false
   },
   "outputs": [
    {
     "name": "stdout",
     "output_type": "stream",
     "text": [
      "Computing the pearson similarity matrix...\n",
      "Done computing similarity matrix.\n",
      "Computing the pearson similarity matrix...\n",
      "Done computing similarity matrix.\n",
      "Computing the pearson similarity matrix...\n",
      "Done computing similarity matrix.\n",
      "Evaluating MAE, RMSE of algorithm KNNBasic on 3 split(s).\n",
      "\n",
      "                  Fold 1  Fold 2  Fold 3  Mean    Std     \n",
      "MAE (testset)     0.8115  0.8030  0.8145  0.8097  0.0049  \n",
      "RMSE (testset)    1.0250  1.0123  1.0244  1.0206  0.0059  \n",
      "Fit time          0.79    0.80    0.80    0.80    0.00    \n",
      "Test time         3.34    3.45    3.67    3.49    0.14    \n",
      "Computing the pearson similarity matrix...\n",
      "Done computing similarity matrix.\n",
      "Computing the pearson similarity matrix...\n",
      "Done computing similarity matrix.\n",
      "Computing the pearson similarity matrix...\n",
      "Done computing similarity matrix.\n",
      "Evaluating MAE, RMSE of algorithm KNNBasic on 3 split(s).\n",
      "\n",
      "                  Fold 1  Fold 2  Fold 3  Mean    Std     \n",
      "MAE (testset)     0.8380  0.8370  0.8446  0.8399  0.0034  \n",
      "RMSE (testset)    1.0479  1.0439  1.0564  1.0494  0.0052  \n",
      "Fit time          1.35    1.36    1.33    1.35    0.02    \n",
      "Test time         3.88    3.98    3.88    3.91    0.05    \n"
     ]
    }
   ],
   "source": [
    "# Using pearson similarity\n",
    "\n",
    "algo = KNNBasic(sim_options={\n",
    "                        'name': 'pearson',\n",
    "                        'user_based': True\n",
    "                    })\n",
    "\n",
    "output = cross_validate(algo, data, measures=['MAE', 'RMSE'], \n",
    "               cv=folds, verbose=True)\n",
    "\n",
    "UBCF_outputs['Pearson_UBCF'] = output\n",
    "\n",
    "algo = KNNBasic(sim_options={\n",
    "                        'name': 'pearson',\n",
    "                        'user_based': False\n",
    "                    })\n",
    "\n",
    "output = cross_validate(algo, data, measures=['MAE', 'RMSE'], \n",
    "               cv=folds, verbose=True)\n",
    "\n",
    "IBCF_outputs['Pearson_IBCF'] = output"
   ]
  },
  {
   "cell_type": "code",
   "execution_count": 153,
   "metadata": {},
   "outputs": [],
   "source": [
    "user_based_df = build_dataframe(UBCF_outputs)\n",
    "item_based_df = build_dataframe(IBCF_outputs)"
   ]
  },
  {
   "cell_type": "code",
   "execution_count": 154,
   "metadata": {},
   "outputs": [
    {
     "data": {
      "text/html": [
       "<div>\n",
       "<style scoped>\n",
       "    .dataframe tbody tr th:only-of-type {\n",
       "        vertical-align: middle;\n",
       "    }\n",
       "\n",
       "    .dataframe tbody tr th {\n",
       "        vertical-align: top;\n",
       "    }\n",
       "\n",
       "    .dataframe thead th {\n",
       "        text-align: right;\n",
       "    }\n",
       "</style>\n",
       "<table border=\"1\" class=\"dataframe\">\n",
       "  <thead>\n",
       "    <tr style=\"text-align: right;\">\n",
       "      <th></th>\n",
       "      <th>Fold_1_MAE</th>\n",
       "      <th>Fold_1_RMSE</th>\n",
       "      <th>Fold_2_MAE</th>\n",
       "      <th>Fold_2_RMSE</th>\n",
       "      <th>Fold_3_MAE</th>\n",
       "      <th>Fold_3_RMSE</th>\n",
       "      <th>Avg_MAE</th>\n",
       "      <th>Avg_RMSE</th>\n",
       "    </tr>\n",
       "  </thead>\n",
       "  <tbody>\n",
       "    <tr>\n",
       "      <td>Cosine_UBCF</td>\n",
       "      <td>0.811239</td>\n",
       "      <td>1.026034</td>\n",
       "      <td>0.803096</td>\n",
       "      <td>1.016334</td>\n",
       "      <td>0.813669</td>\n",
       "      <td>1.025265</td>\n",
       "      <td>0.809335</td>\n",
       "      <td>1.022544</td>\n",
       "    </tr>\n",
       "    <tr>\n",
       "      <td>MSD_UBCF</td>\n",
       "      <td>0.784130</td>\n",
       "      <td>0.994084</td>\n",
       "      <td>0.775987</td>\n",
       "      <td>0.983170</td>\n",
       "      <td>0.785744</td>\n",
       "      <td>0.992551</td>\n",
       "      <td>0.781954</td>\n",
       "      <td>0.989935</td>\n",
       "    </tr>\n",
       "    <tr>\n",
       "      <td>Pearson_UBCF</td>\n",
       "      <td>0.811530</td>\n",
       "      <td>1.024990</td>\n",
       "      <td>0.802967</td>\n",
       "      <td>1.012281</td>\n",
       "      <td>0.814498</td>\n",
       "      <td>1.024415</td>\n",
       "      <td>0.809665</td>\n",
       "      <td>1.020562</td>\n",
       "    </tr>\n",
       "  </tbody>\n",
       "</table>\n",
       "</div>"
      ],
      "text/plain": [
       "              Fold_1_MAE  Fold_1_RMSE  Fold_2_MAE  Fold_2_RMSE  Fold_3_MAE  \\\n",
       "Cosine_UBCF     0.811239     1.026034    0.803096     1.016334    0.813669   \n",
       "MSD_UBCF        0.784130     0.994084    0.775987     0.983170    0.785744   \n",
       "Pearson_UBCF    0.811530     1.024990    0.802967     1.012281    0.814498   \n",
       "\n",
       "              Fold_3_RMSE   Avg_MAE  Avg_RMSE  \n",
       "Cosine_UBCF      1.025265  0.809335  1.022544  \n",
       "MSD_UBCF         0.992551  0.781954  0.989935  \n",
       "Pearson_UBCF     1.024415  0.809665  1.020562  "
      ]
     },
     "execution_count": 154,
     "metadata": {},
     "output_type": "execute_result"
    }
   ],
   "source": [
    "user_based_df"
   ]
  },
  {
   "cell_type": "code",
   "execution_count": 160,
   "metadata": {},
   "outputs": [
    {
     "data": {
      "text/html": [
       "<div>\n",
       "<style scoped>\n",
       "    .dataframe tbody tr th:only-of-type {\n",
       "        vertical-align: middle;\n",
       "    }\n",
       "\n",
       "    .dataframe tbody tr th {\n",
       "        vertical-align: top;\n",
       "    }\n",
       "\n",
       "    .dataframe thead th {\n",
       "        text-align: right;\n",
       "    }\n",
       "</style>\n",
       "<table border=\"1\" class=\"dataframe\">\n",
       "  <thead>\n",
       "    <tr style=\"text-align: right;\">\n",
       "      <th></th>\n",
       "      <th>Fold_1_MAE</th>\n",
       "      <th>Fold_1_RMSE</th>\n",
       "      <th>Fold_2_MAE</th>\n",
       "      <th>Fold_2_RMSE</th>\n",
       "      <th>Fold_3_MAE</th>\n",
       "      <th>Fold_3_RMSE</th>\n",
       "      <th>Avg_MAE</th>\n",
       "      <th>Avg_RMSE</th>\n",
       "    </tr>\n",
       "  </thead>\n",
       "  <tbody>\n",
       "    <tr>\n",
       "      <td>Cosine_IBCF</td>\n",
       "      <td>0.821702</td>\n",
       "      <td>1.036073</td>\n",
       "      <td>0.819562</td>\n",
       "      <td>1.031298</td>\n",
       "      <td>0.827496</td>\n",
       "      <td>1.043352</td>\n",
       "      <td>0.822920</td>\n",
       "      <td>1.036908</td>\n",
       "    </tr>\n",
       "    <tr>\n",
       "      <td>MSD_IBCF</td>\n",
       "      <td>0.781349</td>\n",
       "      <td>0.987246</td>\n",
       "      <td>0.775426</td>\n",
       "      <td>0.978683</td>\n",
       "      <td>0.786314</td>\n",
       "      <td>0.993656</td>\n",
       "      <td>0.781030</td>\n",
       "      <td>0.986528</td>\n",
       "    </tr>\n",
       "    <tr>\n",
       "      <td>Pearson_IBCF</td>\n",
       "      <td>0.837989</td>\n",
       "      <td>1.047893</td>\n",
       "      <td>0.836957</td>\n",
       "      <td>1.043950</td>\n",
       "      <td>0.844606</td>\n",
       "      <td>1.056421</td>\n",
       "      <td>0.839851</td>\n",
       "      <td>1.049421</td>\n",
       "    </tr>\n",
       "  </tbody>\n",
       "</table>\n",
       "</div>"
      ],
      "text/plain": [
       "              Fold_1_MAE  Fold_1_RMSE  Fold_2_MAE  Fold_2_RMSE  Fold_3_MAE  \\\n",
       "Cosine_IBCF     0.821702     1.036073    0.819562     1.031298    0.827496   \n",
       "MSD_IBCF        0.781349     0.987246    0.775426     0.978683    0.786314   \n",
       "Pearson_IBCF    0.837989     1.047893    0.836957     1.043950    0.844606   \n",
       "\n",
       "              Fold_3_RMSE   Avg_MAE  Avg_RMSE  \n",
       "Cosine_IBCF      1.043352  0.822920  1.036908  \n",
       "MSD_IBCF         0.993656  0.781030  0.986528  \n",
       "Pearson_IBCF     1.056421  0.839851  1.049421  "
      ]
     },
     "execution_count": 160,
     "metadata": {},
     "output_type": "execute_result"
    }
   ],
   "source": [
    "item_based_df"
   ]
  },
  {
   "cell_type": "code",
   "execution_count": 155,
   "metadata": {
    "scrolled": false
   },
   "outputs": [
    {
     "data": {
      "image/png": "[encoded data removed]",
      "text/plain": [
       "<Figure size 432x288 with 1 Axes>"
      ]
     },
     "metadata": {
      "needs_background": "light"
     },
     "output_type": "display_data"
    },
    {
     "data": {
      "image/png": "[encoded data removed]",
      "text/plain": [
       "<Figure size 432x288 with 1 Axes>"
      ]
     },
     "metadata": {
      "needs_background": "light"
     },
     "output_type": "display_data"
    }
   ],
   "source": [
    "plot_perf(user_based_df, 'Avg_MAE')\n",
    "plot_perf(user_based_df, 'Avg_RMSE')"
   ]
  },
  {
   "cell_type": "code",
   "execution_count": 156,
   "metadata": {},
   "outputs": [
    {
     "data": {
      "image/png": "[encoded data removed]",
      "text/plain": [
       "<Figure size 432x288 with 1 Axes>"
      ]
     },
     "metadata": {
      "needs_background": "light"
     },
     "output_type": "display_data"
    },
    {
     "data": {
      "image/png": "[encoded data removed]",
      "text/plain": [
       "<Figure size 432x288 with 1 Axes>"
      ]
     },
     "metadata": {
      "needs_background": "light"
     },
     "output_type": "display_data"
    }
   ],
   "source": [
    "plot_perf(item_based_df, 'Avg_MAE')\n",
    "plot_perf(item_based_df, 'Avg_RMSE')"
   ]
  },
  {
   "cell_type": "markdown",
   "metadata": {},
   "source": [
    "### Examining Effect of # of Neighbors in Collaborative Filtering"
   ]
  },
  {
   "cell_type": "code",
   "execution_count": 179,
   "metadata": {},
   "outputs": [],
   "source": [
    "UBCF_outputs = {}\n",
    "IBCF_outputs = {}"
   ]
  },
  {
   "cell_type": "code",
   "execution_count": 180,
   "metadata": {
    "scrolled": true
   },
   "outputs": [
    {
     "name": "stdout",
     "output_type": "stream",
     "text": [
      "Computing the msd similarity matrix...\n",
      "Done computing similarity matrix.\n",
      "Computing the msd similarity matrix...\n",
      "Done computing similarity matrix.\n",
      "Computing the msd similarity matrix...\n",
      "Done computing similarity matrix.\n",
      "Computing the msd similarity matrix...\n",
      "Done computing similarity matrix.\n",
      "Computing the msd similarity matrix...\n",
      "Done computing similarity matrix.\n",
      "Computing the msd similarity matrix...\n",
      "Done computing similarity matrix.\n",
      "Computing the msd similarity matrix...\n",
      "Done computing similarity matrix.\n",
      "Computing the msd similarity matrix...\n",
      "Done computing similarity matrix.\n",
      "Computing the msd similarity matrix...\n",
      "Done computing similarity matrix.\n",
      "Computing the msd similarity matrix...\n",
      "Done computing similarity matrix.\n",
      "Computing the msd similarity matrix...\n",
      "Done computing similarity matrix.\n",
      "Computing the msd similarity matrix...\n",
      "Done computing similarity matrix.\n",
      "Computing the msd similarity matrix...\n",
      "Done computing similarity matrix.\n",
      "Computing the msd similarity matrix...\n",
      "Done computing similarity matrix.\n",
      "Computing the msd similarity matrix...\n",
      "Done computing similarity matrix.\n",
      "Computing the msd similarity matrix...\n",
      "Done computing similarity matrix.\n",
      "Computing the msd similarity matrix...\n",
      "Done computing similarity matrix.\n",
      "Computing the msd similarity matrix...\n",
      "Done computing similarity matrix.\n",
      "Computing the msd similarity matrix...\n",
      "Done computing similarity matrix.\n",
      "Computing the msd similarity matrix...\n",
      "Done computing similarity matrix.\n",
      "Computing the msd similarity matrix...\n",
      "Done computing similarity matrix.\n",
      "Computing the msd similarity matrix...\n",
      "Done computing similarity matrix.\n",
      "Computing the msd similarity matrix...\n",
      "Done computing similarity matrix.\n",
      "Computing the msd similarity matrix...\n",
      "Done computing similarity matrix.\n",
      "Computing the msd similarity matrix...\n",
      "Done computing similarity matrix.\n",
      "Computing the msd similarity matrix...\n",
      "Done computing similarity matrix.\n",
      "Computing the msd similarity matrix...\n",
      "Done computing similarity matrix.\n",
      "Computing the msd similarity matrix...\n",
      "Done computing similarity matrix.\n",
      "Computing the msd similarity matrix...\n",
      "Done computing similarity matrix.\n",
      "Computing the msd similarity matrix...\n",
      "Done computing similarity matrix.\n",
      "Computing the msd similarity matrix...\n",
      "Done computing similarity matrix.\n",
      "Computing the msd similarity matrix...\n",
      "Done computing similarity matrix.\n",
      "Computing the msd similarity matrix...\n",
      "Done computing similarity matrix.\n",
      "Computing the msd similarity matrix...\n",
      "Done computing similarity matrix.\n",
      "Computing the msd similarity matrix...\n",
      "Done computing similarity matrix.\n",
      "Computing the msd similarity matrix...\n",
      "Done computing similarity matrix.\n",
      "Computing the msd similarity matrix...\n",
      "Done computing similarity matrix.\n",
      "Computing the msd similarity matrix...\n",
      "Done computing similarity matrix.\n",
      "Computing the msd similarity matrix...\n",
      "Done computing similarity matrix.\n",
      "Computing the msd similarity matrix...\n",
      "Done computing similarity matrix.\n",
      "Computing the msd similarity matrix...\n",
      "Done computing similarity matrix.\n",
      "Computing the msd similarity matrix...\n",
      "Done computing similarity matrix.\n",
      "Computing the msd similarity matrix...\n",
      "Done computing similarity matrix.\n",
      "Computing the msd similarity matrix...\n",
      "Done computing similarity matrix.\n",
      "Computing the msd similarity matrix...\n",
      "Done computing similarity matrix.\n",
      "Computing the msd similarity matrix...\n",
      "Done computing similarity matrix.\n",
      "Computing the msd similarity matrix...\n",
      "Done computing similarity matrix.\n",
      "Computing the msd similarity matrix...\n",
      "Done computing similarity matrix.\n",
      "Computing the msd similarity matrix...\n",
      "Done computing similarity matrix.\n",
      "Computing the msd similarity matrix...\n",
      "Done computing similarity matrix.\n",
      "Computing the msd similarity matrix...\n",
      "Done computing similarity matrix.\n",
      "Computing the msd similarity matrix...\n",
      "Done computing similarity matrix.\n",
      "Computing the msd similarity matrix...\n",
      "Done computing similarity matrix.\n",
      "Computing the msd similarity matrix...\n",
      "Done computing similarity matrix.\n",
      "Computing the msd similarity matrix...\n",
      "Done computing similarity matrix.\n",
      "Computing the msd similarity matrix...\n",
      "Done computing similarity matrix.\n",
      "Computing the msd similarity matrix...\n",
      "Done computing similarity matrix.\n",
      "Computing the msd similarity matrix...\n",
      "Done computing similarity matrix.\n",
      "Computing the msd similarity matrix...\n",
      "Done computing similarity matrix.\n",
      "Computing the msd similarity matrix...\n",
      "Done computing similarity matrix.\n"
     ]
    }
   ],
   "source": [
    "# Using K 5 through 100 for user based collaborative filtering\n",
    "\n",
    "for i in range(5, 101, 5):\n",
    "    algo = KNNBasic(k = i, sim_options={'user_based': True})\n",
    "\n",
    "    output = cross_validate(algo, data, measures=['MAE', 'RMSE'], \n",
    "                   cv=folds, verbose=False)\n",
    "\n",
    "    UBCF_outputs[str(i)] = output"
   ]
  },
  {
   "cell_type": "code",
   "execution_count": 181,
   "metadata": {
    "scrolled": true
   },
   "outputs": [
    {
     "name": "stdout",
     "output_type": "stream",
     "text": [
      "Computing the msd similarity matrix...\n",
      "Done computing similarity matrix.\n",
      "Computing the msd similarity matrix...\n",
      "Done computing similarity matrix.\n",
      "Computing the msd similarity matrix...\n",
      "Done computing similarity matrix.\n",
      "Computing the msd similarity matrix...\n",
      "Done computing similarity matrix.\n",
      "Computing the msd similarity matrix...\n",
      "Done computing similarity matrix.\n",
      "Computing the msd similarity matrix...\n",
      "Done computing similarity matrix.\n",
      "Computing the msd similarity matrix...\n",
      "Done computing similarity matrix.\n",
      "Computing the msd similarity matrix...\n",
      "Done computing similarity matrix.\n",
      "Computing the msd similarity matrix...\n",
      "Done computing similarity matrix.\n",
      "Computing the msd similarity matrix...\n",
      "Done computing similarity matrix.\n",
      "Computing the msd similarity matrix...\n",
      "Done computing similarity matrix.\n",
      "Computing the msd similarity matrix...\n",
      "Done computing similarity matrix.\n",
      "Computing the msd similarity matrix...\n",
      "Done computing similarity matrix.\n",
      "Computing the msd similarity matrix...\n",
      "Done computing similarity matrix.\n",
      "Computing the msd similarity matrix...\n",
      "Done computing similarity matrix.\n",
      "Computing the msd similarity matrix...\n",
      "Done computing similarity matrix.\n",
      "Computing the msd similarity matrix...\n",
      "Done computing similarity matrix.\n",
      "Computing the msd similarity matrix...\n",
      "Done computing similarity matrix.\n",
      "Computing the msd similarity matrix...\n",
      "Done computing similarity matrix.\n",
      "Computing the msd similarity matrix...\n",
      "Done computing similarity matrix.\n",
      "Computing the msd similarity matrix...\n",
      "Done computing similarity matrix.\n",
      "Computing the msd similarity matrix...\n",
      "Done computing similarity matrix.\n",
      "Computing the msd similarity matrix...\n",
      "Done computing similarity matrix.\n",
      "Computing the msd similarity matrix...\n",
      "Done computing similarity matrix.\n",
      "Computing the msd similarity matrix...\n",
      "Done computing similarity matrix.\n",
      "Computing the msd similarity matrix...\n",
      "Done computing similarity matrix.\n",
      "Computing the msd similarity matrix...\n",
      "Done computing similarity matrix.\n",
      "Computing the msd similarity matrix...\n",
      "Done computing similarity matrix.\n",
      "Computing the msd similarity matrix...\n",
      "Done computing similarity matrix.\n",
      "Computing the msd similarity matrix...\n",
      "Done computing similarity matrix.\n",
      "Computing the msd similarity matrix...\n",
      "Done computing similarity matrix.\n",
      "Computing the msd similarity matrix...\n",
      "Done computing similarity matrix.\n",
      "Computing the msd similarity matrix...\n",
      "Done computing similarity matrix.\n",
      "Computing the msd similarity matrix...\n",
      "Done computing similarity matrix.\n",
      "Computing the msd similarity matrix...\n",
      "Done computing similarity matrix.\n",
      "Computing the msd similarity matrix...\n",
      "Done computing similarity matrix.\n",
      "Computing the msd similarity matrix...\n",
      "Done computing similarity matrix.\n",
      "Computing the msd similarity matrix...\n",
      "Done computing similarity matrix.\n",
      "Computing the msd similarity matrix...\n",
      "Done computing similarity matrix.\n",
      "Computing the msd similarity matrix...\n",
      "Done computing similarity matrix.\n",
      "Computing the msd similarity matrix...\n",
      "Done computing similarity matrix.\n",
      "Computing the msd similarity matrix...\n",
      "Done computing similarity matrix.\n",
      "Computing the msd similarity matrix...\n",
      "Done computing similarity matrix.\n",
      "Computing the msd similarity matrix...\n",
      "Done computing similarity matrix.\n",
      "Computing the msd similarity matrix...\n",
      "Done computing similarity matrix.\n",
      "Computing the msd similarity matrix...\n",
      "Done computing similarity matrix.\n",
      "Computing the msd similarity matrix...\n",
      "Done computing similarity matrix.\n",
      "Computing the msd similarity matrix...\n",
      "Done computing similarity matrix.\n",
      "Computing the msd similarity matrix...\n",
      "Done computing similarity matrix.\n",
      "Computing the msd similarity matrix...\n",
      "Done computing similarity matrix.\n",
      "Computing the msd similarity matrix...\n",
      "Done computing similarity matrix.\n",
      "Computing the msd similarity matrix...\n",
      "Done computing similarity matrix.\n",
      "Computing the msd similarity matrix...\n",
      "Done computing similarity matrix.\n",
      "Computing the msd similarity matrix...\n",
      "Done computing similarity matrix.\n",
      "Computing the msd similarity matrix...\n",
      "Done computing similarity matrix.\n",
      "Computing the msd similarity matrix...\n",
      "Done computing similarity matrix.\n",
      "Computing the msd similarity matrix...\n",
      "Done computing similarity matrix.\n",
      "Computing the msd similarity matrix...\n",
      "Done computing similarity matrix.\n",
      "Computing the msd similarity matrix...\n",
      "Done computing similarity matrix.\n",
      "Computing the msd similarity matrix...\n",
      "Done computing similarity matrix.\n"
     ]
    }
   ],
   "source": [
    "# Using K 5 through 100 for item based collaborative filtering\n",
    "\n",
    "for i in range(5, 101, 5):\n",
    "    algo = KNNBasic(k = i, sim_options={'user_based': False })\n",
    "\n",
    "    output = cross_validate(algo, data, measures=['MAE', 'RMSE'], \n",
    "                   cv=folds, verbose=False)\n",
    "\n",
    "    IBCF_outputs[str(i)] = output"
   ]
  },
  {
   "cell_type": "code",
   "execution_count": 182,
   "metadata": {},
   "outputs": [],
   "source": [
    "user_based_df = build_dataframe(UBCF_outputs)\n",
    "item_based_df = build_dataframe(IBCF_outputs)"
   ]
  },
  {
   "cell_type": "code",
   "execution_count": 183,
   "metadata": {},
   "outputs": [
    {
     "data": {
      "image/png": "[encoded data removed]",
      "text/plain": [
       "<Figure size 432x288 with 1 Axes>"
      ]
     },
     "metadata": {
      "needs_background": "light"
     },
     "output_type": "display_data"
    }
   ],
   "source": [
    "plot_perf(user_based_df, 'Avg_RMSE')"
   ]
  },
  {
   "cell_type": "code",
   "execution_count": 184,
   "metadata": {},
   "outputs": [
    {
     "data": {
      "image/png": "[encoded data removed]",
      "text/plain": [
       "<Figure size 432x288 with 1 Axes>"
      ]
     },
     "metadata": {
      "needs_background": "light"
     },
     "output_type": "display_data"
    }
   ],
   "source": [
    "plot_perf(item_based_df, 'Avg_RMSE')"
   ]
  },
  {
   "cell_type": "code",
   "execution_count": 188,
   "metadata": {},
   "outputs": [],
   "source": [
    "UBCF_outputs = {}\n",
    "IBCF_outputs = {}"
   ]
  },
  {
   "cell_type": "code",
   "execution_count": 189,
   "metadata": {
    "scrolled": true
   },
   "outputs": [
    {
     "name": "stdout",
     "output_type": "stream",
     "text": [
      "Computing the msd similarity matrix...\n",
      "Done computing similarity matrix.\n",
      "Computing the msd similarity matrix...\n",
      "Done computing similarity matrix.\n",
      "Computing the msd similarity matrix...\n",
      "Done computing similarity matrix.\n",
      "Computing the msd similarity matrix...\n",
      "Done computing similarity matrix.\n",
      "Computing the msd similarity matrix...\n",
      "Done computing similarity matrix.\n",
      "Computing the msd similarity matrix...\n",
      "Done computing similarity matrix.\n",
      "Computing the msd similarity matrix...\n",
      "Done computing similarity matrix.\n",
      "Computing the msd similarity matrix...\n",
      "Done computing similarity matrix.\n",
      "Computing the msd similarity matrix...\n",
      "Done computing similarity matrix.\n",
      "Computing the msd similarity matrix...\n",
      "Done computing similarity matrix.\n",
      "Computing the msd similarity matrix...\n",
      "Done computing similarity matrix.\n",
      "Computing the msd similarity matrix...\n",
      "Done computing similarity matrix.\n",
      "Computing the msd similarity matrix...\n",
      "Done computing similarity matrix.\n",
      "Computing the msd similarity matrix...\n",
      "Done computing similarity matrix.\n",
      "Computing the msd similarity matrix...\n",
      "Done computing similarity matrix.\n",
      "Computing the msd similarity matrix...\n",
      "Done computing similarity matrix.\n",
      "Computing the msd similarity matrix...\n",
      "Done computing similarity matrix.\n",
      "Computing the msd similarity matrix...\n",
      "Done computing similarity matrix.\n",
      "Computing the msd similarity matrix...\n",
      "Done computing similarity matrix.\n",
      "Computing the msd similarity matrix...\n",
      "Done computing similarity matrix.\n",
      "Computing the msd similarity matrix...\n",
      "Done computing similarity matrix.\n",
      "Computing the msd similarity matrix...\n",
      "Done computing similarity matrix.\n",
      "Computing the msd similarity matrix...\n",
      "Done computing similarity matrix.\n",
      "Computing the msd similarity matrix...\n",
      "Done computing similarity matrix.\n",
      "Computing the msd similarity matrix...\n",
      "Done computing similarity matrix.\n",
      "Computing the msd similarity matrix...\n",
      "Done computing similarity matrix.\n",
      "Computing the msd similarity matrix...\n",
      "Done computing similarity matrix.\n",
      "Computing the msd similarity matrix...\n",
      "Done computing similarity matrix.\n",
      "Computing the msd similarity matrix...\n",
      "Done computing similarity matrix.\n",
      "Computing the msd similarity matrix...\n",
      "Done computing similarity matrix.\n",
      "Computing the msd similarity matrix...\n",
      "Done computing similarity matrix.\n",
      "Computing the msd similarity matrix...\n",
      "Done computing similarity matrix.\n",
      "Computing the msd similarity matrix...\n",
      "Done computing similarity matrix.\n",
      "Computing the msd similarity matrix...\n",
      "Done computing similarity matrix.\n",
      "Computing the msd similarity matrix...\n",
      "Done computing similarity matrix.\n",
      "Computing the msd similarity matrix...\n",
      "Done computing similarity matrix.\n",
      "Computing the msd similarity matrix...\n",
      "Done computing similarity matrix.\n",
      "Computing the msd similarity matrix...\n",
      "Done computing similarity matrix.\n",
      "Computing the msd similarity matrix...\n",
      "Done computing similarity matrix.\n",
      "Computing the msd similarity matrix...\n",
      "Done computing similarity matrix.\n",
      "Computing the msd similarity matrix...\n",
      "Done computing similarity matrix.\n",
      "Computing the msd similarity matrix...\n",
      "Done computing similarity matrix.\n",
      "Computing the msd similarity matrix...\n",
      "Done computing similarity matrix.\n",
      "Computing the msd similarity matrix...\n",
      "Done computing similarity matrix.\n",
      "Computing the msd similarity matrix...\n",
      "Done computing similarity matrix.\n",
      "Computing the msd similarity matrix...\n",
      "Done computing similarity matrix.\n",
      "Computing the msd similarity matrix...\n",
      "Done computing similarity matrix.\n",
      "Computing the msd similarity matrix...\n",
      "Done computing similarity matrix.\n",
      "Computing the msd similarity matrix...\n",
      "Done computing similarity matrix.\n",
      "Computing the msd similarity matrix...\n",
      "Done computing similarity matrix.\n",
      "Computing the msd similarity matrix...\n",
      "Done computing similarity matrix.\n",
      "Computing the msd similarity matrix...\n",
      "Done computing similarity matrix.\n",
      "Computing the msd similarity matrix...\n",
      "Done computing similarity matrix.\n",
      "Computing the msd similarity matrix...\n",
      "Done computing similarity matrix.\n",
      "Computing the msd similarity matrix...\n",
      "Done computing similarity matrix.\n",
      "Computing the msd similarity matrix...\n",
      "Done computing similarity matrix.\n",
      "Computing the msd similarity matrix...\n",
      "Done computing similarity matrix.\n",
      "Computing the msd similarity matrix...\n",
      "Done computing similarity matrix.\n",
      "Computing the msd similarity matrix...\n",
      "Done computing similarity matrix.\n",
      "Computing the msd similarity matrix...\n",
      "Done computing similarity matrix.\n",
      "Computing the msd similarity matrix...\n",
      "Done computing similarity matrix.\n",
      "Computing the msd similarity matrix...\n",
      "Done computing similarity matrix.\n",
      "Computing the msd similarity matrix...\n",
      "Done computing similarity matrix.\n",
      "Computing the msd similarity matrix...\n",
      "Done computing similarity matrix.\n",
      "Computing the msd similarity matrix...\n",
      "Done computing similarity matrix.\n",
      "Computing the msd similarity matrix...\n",
      "Done computing similarity matrix.\n",
      "Computing the msd similarity matrix...\n",
      "Done computing similarity matrix.\n",
      "Computing the msd similarity matrix...\n",
      "Done computing similarity matrix.\n",
      "Computing the msd similarity matrix...\n",
      "Done computing similarity matrix.\n",
      "Computing the msd similarity matrix...\n",
      "Done computing similarity matrix.\n",
      "Computing the msd similarity matrix...\n",
      "Done computing similarity matrix.\n",
      "Computing the msd similarity matrix...\n",
      "Done computing similarity matrix.\n",
      "Computing the msd similarity matrix...\n",
      "Done computing similarity matrix.\n",
      "Computing the msd similarity matrix...\n",
      "Done computing similarity matrix.\n",
      "Computing the msd similarity matrix...\n",
      "Done computing similarity matrix.\n",
      "Computing the msd similarity matrix...\n",
      "Done computing similarity matrix.\n",
      "Computing the msd similarity matrix...\n",
      "Done computing similarity matrix.\n",
      "Computing the msd similarity matrix...\n",
      "Done computing similarity matrix.\n",
      "Computing the msd similarity matrix...\n",
      "Done computing similarity matrix.\n",
      "Computing the msd similarity matrix...\n",
      "Done computing similarity matrix.\n",
      "Computing the msd similarity matrix...\n",
      "Done computing similarity matrix.\n",
      "Computing the msd similarity matrix...\n",
      "Done computing similarity matrix.\n",
      "Computing the msd similarity matrix...\n",
      "Done computing similarity matrix.\n",
      "Computing the msd similarity matrix...\n",
      "Done computing similarity matrix.\n",
      "Computing the msd similarity matrix...\n",
      "Done computing similarity matrix.\n",
      "Computing the msd similarity matrix...\n",
      "Done computing similarity matrix.\n",
      "Computing the msd similarity matrix...\n",
      "Done computing similarity matrix.\n",
      "Computing the msd similarity matrix...\n",
      "Done computing similarity matrix.\n",
      "Computing the msd similarity matrix...\n",
      "Done computing similarity matrix.\n",
      "Computing the msd similarity matrix...\n",
      "Done computing similarity matrix.\n",
      "Computing the msd similarity matrix...\n",
      "Done computing similarity matrix.\n",
      "Computing the msd similarity matrix...\n",
      "Done computing similarity matrix.\n",
      "Computing the msd similarity matrix...\n",
      "Done computing similarity matrix.\n"
     ]
    }
   ],
   "source": [
    "# Using K 20 through 40 for user based collaborative filtering\n",
    "\n",
    "for i in range(15, 46):\n",
    "    algo = KNNBasic(k = i, sim_options={'user_based': True})\n",
    "\n",
    "    output = cross_validate(algo, data, measures=['MAE', 'RMSE'], \n",
    "                   cv=folds, verbose=False)\n",
    "\n",
    "    UBCF_outputs[str(i)] = output"
   ]
  },
  {
   "cell_type": "code",
   "execution_count": 190,
   "metadata": {
    "scrolled": true
   },
   "outputs": [
    {
     "name": "stdout",
     "output_type": "stream",
     "text": [
      "Computing the msd similarity matrix...\n",
      "Done computing similarity matrix.\n",
      "Computing the msd similarity matrix...\n",
      "Done computing similarity matrix.\n",
      "Computing the msd similarity matrix...\n",
      "Done computing similarity matrix.\n",
      "Computing the msd similarity matrix...\n",
      "Done computing similarity matrix.\n",
      "Computing the msd similarity matrix...\n",
      "Done computing similarity matrix.\n",
      "Computing the msd similarity matrix...\n",
      "Done computing similarity matrix.\n",
      "Computing the msd similarity matrix...\n",
      "Done computing similarity matrix.\n",
      "Computing the msd similarity matrix...\n",
      "Done computing similarity matrix.\n",
      "Computing the msd similarity matrix...\n",
      "Done computing similarity matrix.\n",
      "Computing the msd similarity matrix...\n",
      "Done computing similarity matrix.\n",
      "Computing the msd similarity matrix...\n",
      "Done computing similarity matrix.\n",
      "Computing the msd similarity matrix...\n",
      "Done computing similarity matrix.\n",
      "Computing the msd similarity matrix...\n",
      "Done computing similarity matrix.\n",
      "Computing the msd similarity matrix...\n",
      "Done computing similarity matrix.\n",
      "Computing the msd similarity matrix...\n",
      "Done computing similarity matrix.\n",
      "Computing the msd similarity matrix...\n",
      "Done computing similarity matrix.\n",
      "Computing the msd similarity matrix...\n",
      "Done computing similarity matrix.\n",
      "Computing the msd similarity matrix...\n",
      "Done computing similarity matrix.\n",
      "Computing the msd similarity matrix...\n",
      "Done computing similarity matrix.\n",
      "Computing the msd similarity matrix...\n",
      "Done computing similarity matrix.\n",
      "Computing the msd similarity matrix...\n",
      "Done computing similarity matrix.\n",
      "Computing the msd similarity matrix...\n",
      "Done computing similarity matrix.\n",
      "Computing the msd similarity matrix...\n",
      "Done computing similarity matrix.\n",
      "Computing the msd similarity matrix...\n",
      "Done computing similarity matrix.\n",
      "Computing the msd similarity matrix...\n",
      "Done computing similarity matrix.\n",
      "Computing the msd similarity matrix...\n",
      "Done computing similarity matrix.\n",
      "Computing the msd similarity matrix...\n",
      "Done computing similarity matrix.\n",
      "Computing the msd similarity matrix...\n",
      "Done computing similarity matrix.\n",
      "Computing the msd similarity matrix...\n",
      "Done computing similarity matrix.\n",
      "Computing the msd similarity matrix...\n",
      "Done computing similarity matrix.\n",
      "Computing the msd similarity matrix...\n",
      "Done computing similarity matrix.\n",
      "Computing the msd similarity matrix...\n",
      "Done computing similarity matrix.\n",
      "Computing the msd similarity matrix...\n",
      "Done computing similarity matrix.\n",
      "Computing the msd similarity matrix...\n",
      "Done computing similarity matrix.\n",
      "Computing the msd similarity matrix...\n",
      "Done computing similarity matrix.\n",
      "Computing the msd similarity matrix...\n",
      "Done computing similarity matrix.\n",
      "Computing the msd similarity matrix...\n",
      "Done computing similarity matrix.\n",
      "Computing the msd similarity matrix...\n",
      "Done computing similarity matrix.\n",
      "Computing the msd similarity matrix...\n",
      "Done computing similarity matrix.\n",
      "Computing the msd similarity matrix...\n",
      "Done computing similarity matrix.\n",
      "Computing the msd similarity matrix...\n",
      "Done computing similarity matrix.\n",
      "Computing the msd similarity matrix...\n",
      "Done computing similarity matrix.\n",
      "Computing the msd similarity matrix...\n",
      "Done computing similarity matrix.\n",
      "Computing the msd similarity matrix...\n",
      "Done computing similarity matrix.\n",
      "Computing the msd similarity matrix...\n",
      "Done computing similarity matrix.\n",
      "Computing the msd similarity matrix...\n",
      "Done computing similarity matrix.\n",
      "Computing the msd similarity matrix...\n",
      "Done computing similarity matrix.\n",
      "Computing the msd similarity matrix...\n",
      "Done computing similarity matrix.\n",
      "Computing the msd similarity matrix...\n",
      "Done computing similarity matrix.\n",
      "Computing the msd similarity matrix...\n",
      "Done computing similarity matrix.\n",
      "Computing the msd similarity matrix...\n",
      "Done computing similarity matrix.\n",
      "Computing the msd similarity matrix...\n",
      "Done computing similarity matrix.\n",
      "Computing the msd similarity matrix...\n",
      "Done computing similarity matrix.\n",
      "Computing the msd similarity matrix...\n",
      "Done computing similarity matrix.\n",
      "Computing the msd similarity matrix...\n",
      "Done computing similarity matrix.\n",
      "Computing the msd similarity matrix...\n",
      "Done computing similarity matrix.\n",
      "Computing the msd similarity matrix...\n",
      "Done computing similarity matrix.\n",
      "Computing the msd similarity matrix...\n",
      "Done computing similarity matrix.\n",
      "Computing the msd similarity matrix...\n",
      "Done computing similarity matrix.\n",
      "Computing the msd similarity matrix...\n",
      "Done computing similarity matrix.\n",
      "Computing the msd similarity matrix...\n",
      "Done computing similarity matrix.\n",
      "Computing the msd similarity matrix...\n",
      "Done computing similarity matrix.\n",
      "Computing the msd similarity matrix...\n",
      "Done computing similarity matrix.\n",
      "Computing the msd similarity matrix...\n",
      "Done computing similarity matrix.\n",
      "Computing the msd similarity matrix...\n",
      "Done computing similarity matrix.\n",
      "Computing the msd similarity matrix...\n",
      "Done computing similarity matrix.\n",
      "Computing the msd similarity matrix...\n",
      "Done computing similarity matrix.\n",
      "Computing the msd similarity matrix...\n",
      "Done computing similarity matrix.\n",
      "Computing the msd similarity matrix...\n",
      "Done computing similarity matrix.\n",
      "Computing the msd similarity matrix...\n",
      "Done computing similarity matrix.\n",
      "Computing the msd similarity matrix...\n",
      "Done computing similarity matrix.\n",
      "Computing the msd similarity matrix...\n",
      "Done computing similarity matrix.\n",
      "Computing the msd similarity matrix...\n",
      "Done computing similarity matrix.\n",
      "Computing the msd similarity matrix...\n",
      "Done computing similarity matrix.\n",
      "Computing the msd similarity matrix...\n",
      "Done computing similarity matrix.\n",
      "Computing the msd similarity matrix...\n",
      "Done computing similarity matrix.\n",
      "Computing the msd similarity matrix...\n",
      "Done computing similarity matrix.\n",
      "Computing the msd similarity matrix...\n",
      "Done computing similarity matrix.\n",
      "Computing the msd similarity matrix...\n",
      "Done computing similarity matrix.\n",
      "Computing the msd similarity matrix...\n",
      "Done computing similarity matrix.\n",
      "Computing the msd similarity matrix...\n",
      "Done computing similarity matrix.\n",
      "Computing the msd similarity matrix...\n",
      "Done computing similarity matrix.\n",
      "Computing the msd similarity matrix...\n",
      "Done computing similarity matrix.\n",
      "Computing the msd similarity matrix...\n",
      "Done computing similarity matrix.\n",
      "Computing the msd similarity matrix...\n",
      "Done computing similarity matrix.\n",
      "Computing the msd similarity matrix...\n",
      "Done computing similarity matrix.\n",
      "Computing the msd similarity matrix...\n",
      "Done computing similarity matrix.\n",
      "Computing the msd similarity matrix...\n",
      "Done computing similarity matrix.\n",
      "Computing the msd similarity matrix...\n",
      "Done computing similarity matrix.\n",
      "Computing the msd similarity matrix...\n",
      "Done computing similarity matrix.\n",
      "Computing the msd similarity matrix...\n",
      "Done computing similarity matrix.\n",
      "Computing the msd similarity matrix...\n",
      "Done computing similarity matrix.\n",
      "Computing the msd similarity matrix...\n",
      "Done computing similarity matrix.\n"
     ]
    }
   ],
   "source": [
    "# Using K 20 through 40 for item based collaborative filtering\n",
    "\n",
    "for i in range(15, 46):\n",
    "    algo = KNNBasic(k = i, sim_options={'user_based': False })\n",
    "\n",
    "    output = cross_validate(algo, data, measures=['MAE', 'RMSE'], \n",
    "                   cv=folds, verbose=False)\n",
    "\n",
    "    IBCF_outputs[str(i)] = output"
   ]
  },
  {
   "cell_type": "code",
   "execution_count": 191,
   "metadata": {},
   "outputs": [],
   "source": [
    "user_based_df = build_dataframe(UBCF_outputs)\n",
    "item_based_df = build_dataframe(IBCF_outputs)"
   ]
  },
  {
   "cell_type": "code",
   "execution_count": 192,
   "metadata": {},
   "outputs": [
    {
     "data": {
      "image/png": "[encoded data removed]",
      "text/plain": [
       "<Figure size 432x288 with 1 Axes>"
      ]
     },
     "metadata": {
      "needs_background": "light"
     },
     "output_type": "display_data"
    }
   ],
   "source": [
    "plot_perf(user_based_df, 'Avg_RMSE')"
   ]
  },
  {
   "cell_type": "code",
   "execution_count": 193,
   "metadata": {},
   "outputs": [
    {
     "data": {
      "image/png": "[encoded data removed]",
      "text/plain": [
       "<Figure size 432x288 with 1 Axes>"
      ]
     },
     "metadata": {
      "needs_background": "light"
     },
     "output_type": "display_data"
    }
   ],
   "source": [
    "plot_perf(item_based_df, 'Avg_RMSE')"
   ]
  },
  {
   "cell_type": "code",
   "execution_count": 197,
   "metadata": {},
   "outputs": [
    {
     "data": {
      "text/plain": [
       "Avg_RMSE    25\n",
       "dtype: object"
      ]
     },
     "execution_count": 197,
     "metadata": {},
     "output_type": "execute_result"
    }
   ],
   "source": [
    "# This outputs the best K value for user based collaborative filtering\n",
    "\n",
    "user_based_df[['Avg_RMSE']].idxmin()"
   ]
  },
  {
   "cell_type": "code",
   "execution_count": 198,
   "metadata": {},
   "outputs": [
    {
     "data": {
      "text/plain": [
       "Avg_RMSE    38\n",
       "dtype: object"
      ]
     },
     "execution_count": 198,
     "metadata": {},
     "output_type": "execute_result"
    }
   ],
   "source": [
    "# This outputs the best K value for item based collaborative filtering\n",
    "\n",
    "item_based_df[['Avg_RMSE']].idxmin()"
   ]
  }
 ],
 "metadata": {
  "kernelspec": {
   "display_name": "Python 3",
   "language": "python",
   "name": "python3"
  },
  "language_info": {
   "codemirror_mode": {
    "name": "ipython",
    "version": 3
   },
   "file_extension": ".py",
   "mimetype": "text/x-python",
   "name": "python",
   "nbconvert_exporter": "python",
   "pygments_lexer": "ipython3",
   "version": "3.7.4"
  }
 },
 "nbformat": 4,
 "nbformat_minor": 2
}
