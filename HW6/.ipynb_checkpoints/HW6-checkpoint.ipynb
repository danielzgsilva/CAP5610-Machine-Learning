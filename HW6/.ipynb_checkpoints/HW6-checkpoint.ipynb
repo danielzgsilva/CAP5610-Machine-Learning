{
 "cells": [
  {
   "cell_type": "code",
   "execution_count": 1,
   "metadata": {},
   "outputs": [],
   "source": [
    "import pandas as pd\n",
    "from sklearn.datasets import load_iris\n",
    "\n",
    "from kmeans import (kmeans, euclidean, manhattan, cosine_sim,\n",
    "                    jaccard, sum_of_squares, loadCSV, \n",
    "                    showDataset2D, printTable)"
   ]
  },
  {
   "cell_type": "markdown",
   "metadata": {},
   "source": [
    "### Question 1 "
   ]
  },
  {
   "cell_type": "code",
   "execution_count": 15,
   "metadata": {},
   "outputs": [],
   "source": [
    "# Load csv file using dataset kmeans script\n",
    "\n",
    "dataset = loadCSV('football_data.csv')"
   ]
  },
  {
   "cell_type": "markdown",
   "metadata": {},
   "source": [
    "(1) Initialize with two centroids, (4, 6) and (5, 4). Use Manhattan distance as the distance metric. Please use K-Means to find two clusters"
   ]
  },
  {
   "cell_type": "code",
   "execution_count": 28,
   "metadata": {
    "scrolled": true
   },
   "outputs": [
    {
     "name": "stdout",
     "output_type": "stream",
     "text": [
      "SSE: 54.1\n",
      "centroid0\t4.00 6.33 \n",
      "centroid1\t5.57 3.57 \n"
     ]
    }
   ],
   "source": [
    "clustering = kmeans(dataset, 2, False, [(-1,4,6), (-1, 5,4)], metric=manhattan)\n",
    "print('SSE: {0:.4}'.format(clustering['withinss']))\n",
    "printTable(clustering[\"centroids\"])"
   ]
  },
  {
   "cell_type": "markdown",
   "metadata": {},
   "source": [
    "(2) Initialize with two centroids, (4, 6) and (5, 4). Use Euclidean distance as the distance metric. Please use K-Means to find two clusters."
   ]
  },
  {
   "cell_type": "code",
   "execution_count": 29,
   "metadata": {},
   "outputs": [
    {
     "name": "stdout",
     "output_type": "stream",
     "text": [
      "SSE: 27.83\n",
      "centroid0\t2.50 5.00 \n",
      "centroid1\t6.83 4.00 \n"
     ]
    }
   ],
   "source": [
    "clustering = kmeans(dataset, 2, False, [(-1,4,6), (-1, 5,4)], metric=euclidean)\n",
    "print('SSE: {0:.4}'.format(clustering['withinss']))\n",
    "printTable(clustering[\"centroids\"])"
   ]
  },
  {
   "cell_type": "markdown",
   "metadata": {},
   "source": [
    "(3) Initialize with two centroids, (3, 3) and (8, 3). Use Manhattan distance as the distance metric. Please use K-Means to find two clusters."
   ]
  },
  {
   "cell_type": "code",
   "execution_count": 30,
   "metadata": {},
   "outputs": [
    {
     "name": "stdout",
     "output_type": "stream",
     "text": [
      "SSE: 27.83\n",
      "centroid0\t2.50 5.00 \n",
      "centroid1\t6.83 4.00 \n"
     ]
    }
   ],
   "source": [
    "clustering = kmeans(dataset, 2, False, [(-1,3,3), (-1, 8,3)], metric=manhattan)\n",
    "print('SSE: {0:.4}'.format(clustering['withinss']))\n",
    "printTable(clustering[\"centroids\"])"
   ]
  },
  {
   "cell_type": "markdown",
   "metadata": {},
   "source": [
    "(4) Initialize with two centroids, (3, 2) and (4, 8). Use Manhattan distance as the distance metric. Please use K-Means to find two clusters."
   ]
  },
  {
   "cell_type": "code",
   "execution_count": 31,
   "metadata": {},
   "outputs": [
    {
     "name": "stdout",
     "output_type": "stream",
     "text": [
      "SSE: 57.9\n",
      "centroid0\t4.86 3.57 \n",
      "centroid1\t5.67 6.33 \n"
     ]
    }
   ],
   "source": [
    "clustering = kmeans(dataset, 2, False, [(-1,3,2), (-1, 4,8)], metric=manhattan)\n",
    "print('SSE: {0:.4}'.format(clustering['withinss']))\n",
    "printTable(clustering[\"centroids\"])"
   ]
  },
  {
   "cell_type": "markdown",
   "metadata": {},
   "source": [
    "### Question 2"
   ]
  },
  {
   "cell_type": "code",
   "execution_count": 7,
   "metadata": {},
   "outputs": [],
   "source": [
    "# Load iris features using kmeans script\n",
    "\n",
    "iris_dataset = loadCSV('iris_features.csv')\n",
    "iris_targets = loadCSV('iris_targets.csv')"
   ]
  },
  {
   "cell_type": "code",
   "execution_count": 8,
   "metadata": {},
   "outputs": [],
   "source": [
    "def run_kmeans(features, targets, k, num_times, metric, stop_condition='centroids'):\n",
    "    print('Running K means {} times with {} metric and {} stop condition'.format(\n",
    "            num_times, metric.__name__, stop_condition))\n",
    "    \n",
    "    SSEs = []\n",
    "    iters = []\n",
    "    accs = []\n",
    "    \n",
    "    for _ in range(num_times):\n",
    "        # Run k means\n",
    "        res = kmeans(features, k, False, metric=metric, stop_condition=stop_condition)\n",
    "        \n",
    "        # Document SSE and iterations needed\n",
    "        SSEs.append(res['withinss'])\n",
    "        iters.append(res['iterations'])\n",
    "        \n",
    "        # Label each cluster with label of highest votes\n",
    "        cluster_labels = {}\n",
    "        for c, cluster in enumerate(res['clusters']):\n",
    "            labels_cnt = {}\n",
    "            max_label = None\n",
    "            max_label_cnt = 0\n",
    "            \n",
    "            # For each instance in a cluster\n",
    "            for i, instance in enumerate(cluster):\n",
    "                \n",
    "                # Get its label and track how many times it appears\n",
    "                label = targets[int(instance[0])][1]\n",
    "                labels_cnt[label] = labels_cnt.get(label, 0) + 1\n",
    "                \n",
    "                # Update most frequent label\n",
    "                if labels_cnt[label] > max_label_cnt:\n",
    "                    max_label_cnt = labels_cnt[label]\n",
    "                    max_label = label\n",
    "            \n",
    "            # Label cluster with most frequent label\n",
    "            cluster_labels[c] = max_label\n",
    "        \n",
    "        # Calculate accuracy based on each cluster's label against ground truth\n",
    "        running_corrects = 0\n",
    "        running_total = 0\n",
    "        for c, cluster in enumerate(res['clusters']):\n",
    "             for i, instance in enumerate(cluster):\n",
    "                    gt = targets[int(instance[0])][1]\n",
    "                    if gt == cluster_labels[c]:\n",
    "                        running_corrects += 1\n",
    "                    running_total += 1\n",
    "                    \n",
    "        # Record accuracy for kmeans iteration\n",
    "        accs.append(running_corrects / running_total)    \n",
    "            \n",
    "    avg_SSE = sum(SSEs) / num_times\n",
    "    avg_iter = sum(iters) / num_times\n",
    "    avg_acc = sum(accs) / num_times\n",
    "    \n",
    "    print('--> Avg SSE: {0:.4}'.format(avg_SSE))\n",
    "    print('--> Avg iterations: {0:.4}'.format(avg_iter))\n",
    "    print('--> Avg accuracy: {0:.2}\\n'.format(avg_acc))"
   ]
  },
  {
   "cell_type": "markdown",
   "metadata": {},
   "source": [
    "Running K-means clustering with Euclidean, Cosine and Jarcard similarity. K set to 3  based on the 3 flower types in IRIS dataset. \n",
    "\n",
    "Then compare the SSEs, iterations needed, and overall accuracy of Euclidean-K-means Cosine-K-means, Jarcard-K-means."
   ]
  },
  {
   "cell_type": "code",
   "execution_count": 9,
   "metadata": {},
   "outputs": [
    {
     "name": "stdout",
     "output_type": "stream",
     "text": [
      "Running K means 200 times with euclidean metric and centroids stop condition\n",
      "--> Avg SSE: 93.41\n",
      "--> Avg iterations: 7.7\n",
      "--> Avg accuracy: 0.84\n",
      "\n"
     ]
    }
   ],
   "source": [
    "# Euclidean\n",
    "\n",
    "run_kmeans(iris_dataset, iris_targets, 3, 200, euclidean)"
   ]
  },
  {
   "cell_type": "code",
   "execution_count": 10,
   "metadata": {},
   "outputs": [
    {
     "name": "stdout",
     "output_type": "stream",
     "text": [
      "Running K means 200 times with cosine_sim metric and centroids stop condition\n",
      "--> Avg SSE: 109.3\n",
      "--> Avg iterations: 5.565\n",
      "--> Avg accuracy: 0.89\n",
      "\n"
     ]
    }
   ],
   "source": [
    "# Cosine similarity\n",
    "\n",
    "run_kmeans(iris_dataset, iris_targets, 3, 200, cosine_sim)"
   ]
  },
  {
   "cell_type": "code",
   "execution_count": 11,
   "metadata": {},
   "outputs": [
    {
     "name": "stdout",
     "output_type": "stream",
     "text": [
      "Running K means 200 times with jaccard metric and centroids stop condition\n",
      "--> Avg SSE: 96.77\n",
      "--> Avg iterations: 5.68\n",
      "--> Avg accuracy: 0.83\n",
      "\n"
     ]
    }
   ],
   "source": [
    "# Jaccard similarity\n",
    "\n",
    "run_kmeans(iris_dataset, iris_targets, 3, 200, jaccard)"
   ]
  },
  {
   "cell_type": "markdown",
   "metadata": {},
   "source": [
    "Comparing the SSEs of Euclidean-K-means Cosine-K-means, Jarcard-K-means with respect to the following three terminating conditions:\n",
    " - when there is no change in centroid position\n",
    " - when the SSE value increases in the next iteration\n",
    " - when the maximum preset value (100) of iteration is complete"
   ]
  },
  {
   "cell_type": "code",
   "execution_count": 12,
   "metadata": {},
   "outputs": [
    {
     "name": "stdout",
     "output_type": "stream",
     "text": [
      "Running K means 200 times with euclidean metric and centroids stop condition\n",
      "--> Avg SSE: 93.42\n",
      "--> Avg iterations: 7.335\n",
      "--> Avg accuracy: 0.84\n",
      "\n",
      "Running K means 200 times with euclidean metric and SSE stop condition\n",
      "--> Avg SSE: 165.2\n",
      "--> Avg iterations: 1.0\n",
      "--> Avg accuracy: 0.74\n",
      "\n",
      "Running K means 200 times with euclidean metric and max_iteration stop condition\n",
      "--> Avg SSE: 94.61\n",
      "--> Avg iterations: 100.0\n",
      "--> Avg accuracy: 0.84\n",
      "\n"
     ]
    }
   ],
   "source": [
    "# Euclidean\n",
    "\n",
    "# Stop when no change in centroid position\n",
    "run_kmeans(iris_dataset, iris_targets, 3, 200, euclidean, 'centroids')\n",
    "\n",
    "# Stop when SSE value increases\n",
    "run_kmeans(iris_dataset, iris_targets, 3, 200, euclidean, 'SSE')\n",
    "\n",
    "# Stop when 100 iterations is completed\n",
    "run_kmeans(iris_dataset, iris_targets, 3, 200, euclidean, 'max_iteration')"
   ]
  },
  {
   "cell_type": "code",
   "execution_count": 13,
   "metadata": {},
   "outputs": [
    {
     "name": "stdout",
     "output_type": "stream",
     "text": [
      "Running K means 200 times with cosine_sim metric and centroids stop condition\n",
      "--> Avg SSE: 107.2\n",
      "--> Avg iterations: 5.34\n",
      "--> Avg accuracy: 0.9\n",
      "\n",
      "Running K means 200 times with cosine_sim metric and SSE stop condition\n",
      "--> Avg SSE: 191.4\n",
      "--> Avg iterations: 1.0\n",
      "--> Avg accuracy: 0.77\n",
      "\n",
      "Running K means 200 times with cosine_sim metric and max_iteration stop condition\n",
      "--> Avg SSE: 109.3\n",
      "--> Avg iterations: 100.0\n",
      "--> Avg accuracy: 0.89\n",
      "\n"
     ]
    }
   ],
   "source": [
    "# Cosine similarity\n",
    "\n",
    "# Stop when no change in centroid position\n",
    "run_kmeans(iris_dataset, iris_targets, 3, 200, cosine_sim, 'centroids')\n",
    "\n",
    "# Stop when SSE value increases\n",
    "run_kmeans(iris_dataset, iris_targets, 3, 200, cosine_sim, 'SSE')\n",
    "\n",
    "# Stop when 100 iterations is completed\n",
    "run_kmeans(iris_dataset, iris_targets, 3, 200, cosine_sim, 'max_iteration')"
   ]
  },
  {
   "cell_type": "code",
   "execution_count": 14,
   "metadata": {},
   "outputs": [
    {
     "name": "stdout",
     "output_type": "stream",
     "text": [
      "Running K means 200 times with jaccard metric and centroids stop condition\n",
      "--> Avg SSE: 95.16\n",
      "--> Avg iterations: 5.75\n",
      "--> Avg accuracy: 0.84\n",
      "\n",
      "Running K means 200 times with jaccard metric and SSE stop condition\n",
      "--> Avg SSE: 175.6\n",
      "--> Avg iterations: 1.0\n",
      "--> Avg accuracy: 0.74\n",
      "\n",
      "Running K means 200 times with jaccard metric and max_iteration stop condition\n",
      "--> Avg SSE: 92.19\n",
      "--> Avg iterations: 100.0\n",
      "--> Avg accuracy: 0.85\n",
      "\n"
     ]
    }
   ],
   "source": [
    "# Jaccard similarity\n",
    "\n",
    "# Stop when no change in centroid position\n",
    "run_kmeans(iris_dataset, iris_targets, 3, 200, jaccard, 'centroids')\n",
    "\n",
    "# Stop when SSE value increases\n",
    "run_kmeans(iris_dataset, iris_targets, 3, 200, jaccard, 'SSE')\n",
    "\n",
    "# Stop when 100 iterations is completed\n",
    "run_kmeans(iris_dataset, iris_targets, 3, 200, jaccard, 'max_iteration')"
   ]
  }
 ],
 "metadata": {
  "kernelspec": {
   "display_name": "Python 3",
   "language": "python",
   "name": "python3"
  },
  "language_info": {
   "codemirror_mode": {
    "name": "ipython",
    "version": 3
   },
   "file_extension": ".py",
   "mimetype": "text/x-python",
   "name": "python",
   "nbconvert_exporter": "python",
   "pygments_lexer": "ipython3",
   "version": "3.7.4"
  }
 },
 "nbformat": 4,
 "nbformat_minor": 2
}
