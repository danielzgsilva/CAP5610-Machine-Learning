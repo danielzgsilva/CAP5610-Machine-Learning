{
 "cells": [
  {
   "cell_type": "markdown",
   "metadata": {},
   "source": [
    "# CAP 5610 Homework 4"
   ]
  },
  {
   "cell_type": "code",
   "execution_count": 77,
   "metadata": {},
   "outputs": [],
   "source": [
    "import pandas as pd\n",
    "import numpy as np\n",
    "from sklearn import tree\n",
    "from sklearn.naive_bayes import GaussianNB\n",
    "from sklearn import metrics"
   ]
  },
  {
   "cell_type": "markdown",
   "metadata": {},
   "source": [
    "### Football Game Outcome Prediction using Naive Bayes Classifier "
   ]
  },
  {
   "cell_type": "code",
   "execution_count": 78,
   "metadata": {},
   "outputs": [],
   "source": [
    "# Create data\n",
    "\n",
    "train_data = {'Home/Away': [1, 0, 1, 1, 0, 1, 1, 0, 0, 1, 0, 0, \n",
    "                             0, 1, 1, 1, 1, 0, 1, 1, 1, 1, 1, 0], \n",
    "              'Top25': [0, 0, 1, 0, 1, 0, 1, 0, 0, 0, 0, 1, \n",
    "                        0, 0, 0, 0, 0, 0, 1, 0, 0, 0, 1, 1], \n",
    "              'Media': ['NBC', 'ABC', 'NBC', 'NBC', 'ABC', 'NBC', \n",
    "                        'NBC', 'ABC', 'ABC', 'NBC', 'NBC', 'FOX', \n",
    "                        'ABC', 'NBC', 'NBC', 'NBC', 'ESPN', 'ABC', 'NBC', \n",
    "                        'NBC', 'CBS', 'NBC', 'NBC', 'ABC'], \n",
    "              'Win/Lose': [1, 1, 1, 1, 0, 1, 1, 1, 1, 1, 1, 0, 0, 1, 0, 0,\n",
    "                          1, 0, 0 , 1, 0, 1, 0, 0]}"
   ]
  },
  {
   "cell_type": "code",
   "execution_count": 79,
   "metadata": {},
   "outputs": [
    {
     "data": {
      "text/html": [
       "<div>\n",
       "<style scoped>\n",
       "    .dataframe tbody tr th:only-of-type {\n",
       "        vertical-align: middle;\n",
       "    }\n",
       "\n",
       "    .dataframe tbody tr th {\n",
       "        vertical-align: top;\n",
       "    }\n",
       "\n",
       "    .dataframe thead th {\n",
       "        text-align: right;\n",
       "    }\n",
       "</style>\n",
       "<table border=\"1\" class=\"dataframe\">\n",
       "  <thead>\n",
       "    <tr style=\"text-align: right;\">\n",
       "      <th></th>\n",
       "      <th>Home/Away</th>\n",
       "      <th>Top25</th>\n",
       "      <th>Media</th>\n",
       "      <th>Win/Lose</th>\n",
       "    </tr>\n",
       "  </thead>\n",
       "  <tbody>\n",
       "    <tr>\n",
       "      <th>0</th>\n",
       "      <td>1</td>\n",
       "      <td>0</td>\n",
       "      <td>NBC</td>\n",
       "      <td>1</td>\n",
       "    </tr>\n",
       "    <tr>\n",
       "      <th>1</th>\n",
       "      <td>0</td>\n",
       "      <td>0</td>\n",
       "      <td>ABC</td>\n",
       "      <td>1</td>\n",
       "    </tr>\n",
       "    <tr>\n",
       "      <th>2</th>\n",
       "      <td>1</td>\n",
       "      <td>1</td>\n",
       "      <td>NBC</td>\n",
       "      <td>1</td>\n",
       "    </tr>\n",
       "    <tr>\n",
       "      <th>3</th>\n",
       "      <td>1</td>\n",
       "      <td>0</td>\n",
       "      <td>NBC</td>\n",
       "      <td>1</td>\n",
       "    </tr>\n",
       "    <tr>\n",
       "      <th>4</th>\n",
       "      <td>0</td>\n",
       "      <td>1</td>\n",
       "      <td>ABC</td>\n",
       "      <td>0</td>\n",
       "    </tr>\n",
       "  </tbody>\n",
       "</table>\n",
       "</div>"
      ],
      "text/plain": [
       "   Home/Away  Top25 Media  Win/Lose\n",
       "0          1      0   NBC         1\n",
       "1          0      0   ABC         1\n",
       "2          1      1   NBC         1\n",
       "3          1      0   NBC         1\n",
       "4          0      1   ABC         0"
      ]
     },
     "execution_count": 79,
     "metadata": {},
     "output_type": "execute_result"
    }
   ],
   "source": [
    "# Create dataframe\n",
    "\n",
    "train = pd.DataFrame(train_data)\n",
    "train.head()"
   ]
  },
  {
   "cell_type": "code",
   "execution_count": 80,
   "metadata": {},
   "outputs": [],
   "source": [
    "# One hot encode\n",
    "\n",
    "train = pd.get_dummies(train)\n",
    "Xtrain = train.drop('Win/Lose', axis=1, inplace=False)\n",
    "Ytrain = train['Win/Lose']"
   ]
  },
  {
   "cell_type": "code",
   "execution_count": 81,
   "metadata": {},
   "outputs": [
    {
     "data": {
      "text/html": [
       "<div>\n",
       "<style scoped>\n",
       "    .dataframe tbody tr th:only-of-type {\n",
       "        vertical-align: middle;\n",
       "    }\n",
       "\n",
       "    .dataframe tbody tr th {\n",
       "        vertical-align: top;\n",
       "    }\n",
       "\n",
       "    .dataframe thead th {\n",
       "        text-align: right;\n",
       "    }\n",
       "</style>\n",
       "<table border=\"1\" class=\"dataframe\">\n",
       "  <thead>\n",
       "    <tr style=\"text-align: right;\">\n",
       "      <th></th>\n",
       "      <th>Home/Away</th>\n",
       "      <th>Top25</th>\n",
       "      <th>Media_ABC</th>\n",
       "      <th>Media_ESPN</th>\n",
       "      <th>Media_FOX</th>\n",
       "      <th>Media_NBC</th>\n",
       "      <th>Media_CBS</th>\n",
       "    </tr>\n",
       "  </thead>\n",
       "  <tbody>\n",
       "    <tr>\n",
       "      <th>0</th>\n",
       "      <td>1</td>\n",
       "      <td>0</td>\n",
       "      <td>0</td>\n",
       "      <td>0</td>\n",
       "      <td>0</td>\n",
       "      <td>1</td>\n",
       "      <td>0</td>\n",
       "    </tr>\n",
       "    <tr>\n",
       "      <th>1</th>\n",
       "      <td>1</td>\n",
       "      <td>1</td>\n",
       "      <td>0</td>\n",
       "      <td>0</td>\n",
       "      <td>0</td>\n",
       "      <td>1</td>\n",
       "      <td>0</td>\n",
       "    </tr>\n",
       "    <tr>\n",
       "      <th>2</th>\n",
       "      <td>0</td>\n",
       "      <td>0</td>\n",
       "      <td>0</td>\n",
       "      <td>1</td>\n",
       "      <td>0</td>\n",
       "      <td>0</td>\n",
       "      <td>0</td>\n",
       "    </tr>\n",
       "    <tr>\n",
       "      <th>3</th>\n",
       "      <td>0</td>\n",
       "      <td>0</td>\n",
       "      <td>0</td>\n",
       "      <td>0</td>\n",
       "      <td>1</td>\n",
       "      <td>0</td>\n",
       "      <td>0</td>\n",
       "    </tr>\n",
       "    <tr>\n",
       "      <th>4</th>\n",
       "      <td>1</td>\n",
       "      <td>0</td>\n",
       "      <td>0</td>\n",
       "      <td>0</td>\n",
       "      <td>0</td>\n",
       "      <td>1</td>\n",
       "      <td>0</td>\n",
       "    </tr>\n",
       "  </tbody>\n",
       "</table>\n",
       "</div>"
      ],
      "text/plain": [
       "   Home/Away  Top25  Media_ABC  Media_ESPN  Media_FOX  Media_NBC  Media_CBS\n",
       "0          1      0          0           0          0          1          0\n",
       "1          1      1          0           0          0          1          0\n",
       "2          0      0          0           1          0          0          0\n",
       "3          0      0          0           0          1          0          0\n",
       "4          1      0          0           0          0          1          0"
      ]
     },
     "execution_count": 81,
     "metadata": {},
     "output_type": "execute_result"
    }
   ],
   "source": [
    "# Creating test data\n",
    "\n",
    "test_data = {'Home/Away': [1, 1, 0, 0, 1, 0, 1, 1, 1, 0, 1, 0], \n",
    "              'Top25': [0, 1, 0, 0, 0, 0, 1, 0, 0, 1, 0, 1], \n",
    "              'Media': ['NBC', 'NBC', 'ESPN', 'FOX', 'NBC', 'ABC', \n",
    "                        'NBC', 'NBC', 'NBC', 'ABC', 'NBC', 'ABC']}\n",
    "\n",
    "test_labels = np.array([1, 0, 1, 1, 1, 1, 1, 1, 1, 0, 1, 0])\n",
    "\n",
    "test = pd.DataFrame(test_data)\n",
    "test = pd.get_dummies(test)\n",
    "test['Media_CBS'] = np.zeros_like(test['Media_FOX'])\n",
    "test.head()"
   ]
  },
  {
   "cell_type": "code",
   "execution_count": 82,
   "metadata": {},
   "outputs": [
    {
     "data": {
      "text/plain": [
       "GaussianNB(priors=None, var_smoothing=1e-09)"
      ]
     },
     "execution_count": 82,
     "metadata": {},
     "output_type": "execute_result"
    }
   ],
   "source": [
    "# Create and fit naive bayes classifier\n",
    "\n",
    "model = GaussianNB()\n",
    "model.fit(Xtrain, Ytrain)"
   ]
  },
  {
   "cell_type": "code",
   "execution_count": 83,
   "metadata": {},
   "outputs": [
    {
     "data": {
      "text/plain": [
       "array([0, 0, 0, 1, 0, 1, 0, 0, 0, 1, 0, 1])"
      ]
     },
     "execution_count": 83,
     "metadata": {},
     "output_type": "execute_result"
    }
   ],
   "source": [
    "# Use model to make predictions on test set\n",
    "\n",
    "preds = model.predict(test)\n",
    "preds"
   ]
  },
  {
   "cell_type": "code",
   "execution_count": 84,
   "metadata": {},
   "outputs": [],
   "source": [
    "# Calculate metrics\n",
    "\n",
    "accuracy = np.sum(test_labels == preds) / len(preds)\n",
    "precision = metrics.precision_score(test_labels, preds)\n",
    "recall = metrics.recall_score(test_labels, preds)\n",
    "f1 = (2 * (precision * recall)) / (precision + recall)"
   ]
  },
  {
   "cell_type": "code",
   "execution_count": 85,
   "metadata": {},
   "outputs": [
    {
     "name": "stdout",
     "output_type": "stream",
     "text": [
      "Accuracy: 25.0%\n",
      "Precision: 50.0%\n",
      "Recall: 22.22%\n",
      "F1 Score: 30.77%\n"
     ]
    }
   ],
   "source": [
    "print('Accuracy: {}%'.format(np.round(accuracy * 100, 2)))\n",
    "print('Precision: {}%'.format(np.round(precision * 100, 2)))\n",
    "print('Recall: {}%'.format(np.round(recall * 100, 2)))\n",
    "print('F1 Score: {}%'.format(np.round(f1 * 100, 2)))"
   ]
  }
 ],
 "metadata": {
  "kernelspec": {
   "display_name": "Python 3",
   "language": "python",
   "name": "python3"
  },
  "language_info": {
   "codemirror_mode": {
    "name": "ipython",
    "version": 3
   },
   "file_extension": ".py",
   "mimetype": "text/x-python",
   "name": "python",
   "nbconvert_exporter": "python",
   "pygments_lexer": "ipython3",
   "version": "3.7.1"
  }
 },
 "nbformat": 4,
 "nbformat_minor": 2
}
