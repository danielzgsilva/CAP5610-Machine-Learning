{
  "nbformat": 4,
  "nbformat_minor": 0,
  "metadata": {
    "kernelspec": {
      "display_name": "Python 3",
      "language": "python",
      "name": "python3"
    },
    "language_info": {
      "codemirror_mode": {
        "name": "ipython",
        "version": 3
      },
      "file_extension": ".py",
      "mimetype": "text/x-python",
      "name": "python",
      "nbconvert_exporter": "python",
      "pygments_lexer": "ipython3",
      "version": "3.7.1"
    },
    "colab": {
      "name": "HW4.ipynb",
      "provenance": []
    }
  },
  "cells": [
    {
      "cell_type": "markdown",
      "metadata": {
        "id": "rRgrZszwp5KC",
        "colab_type": "text"
      },
      "source": [
        "# CAP 5610 Homework 4"
      ]
    },
    {
      "cell_type": "code",
      "metadata": {
        "id": "CWobddMap5KI",
        "colab_type": "code",
        "colab": {}
      },
      "source": [
        "import pandas as pd\n",
        "import numpy as np\n",
        "from sklearn import tree\n",
        "from sklearn.naive_bayes import GaussianNB\n",
        "from sklearn import metrics\n",
        "from sklearn.preprocessing import OrdinalEncoder"
      ],
      "execution_count": 0,
      "outputs": []
    },
    {
      "cell_type": "markdown",
      "metadata": {
        "id": "yenWcsfxp5KV",
        "colab_type": "text"
      },
      "source": [
        "### Football Game Outcome Prediction using Naive Bayes Classifier "
      ]
    },
    {
      "cell_type": "code",
      "metadata": {
        "id": "a6SwjOaZp5KX",
        "colab_type": "code",
        "colab": {}
      },
      "source": [
        "# Create data\n",
        "\n",
        "train_data = {'Home/Away': [1, 0, 1, 1, 0, 1, 1, 0, 0, 1, 0, 0, \n",
        "                             0, 1, 1, 1, 1, 0, 1, 1, 1, 1, 1, 0], \n",
        "              'Top25': [0, 0, 1, 0, 1, 0, 1, 0, 0, 0, 0, 1, \n",
        "                        0, 0, 0, 0, 0, 0, 1, 0, 0, 0, 1, 1], \n",
        "              'Media': ['NBC', 'ABC', 'NBC', 'NBC', 'ABC', 'NBC', \n",
        "                        'NBC', 'ABC', 'ABC', 'NBC', 'NBC', 'FOX', \n",
        "                        'ABC', 'NBC', 'NBC', 'NBC', 'ESPN', 'ABC', 'NBC', \n",
        "                        'NBC', 'CBS', 'NBC', 'NBC', 'ABC'], \n",
        "              'Win/Lose': [1, 1, 1, 1, 0, 1, 1, 1, 1, 1, 1, 0, 0, 1, 0, 0,\n",
        "                          1, 0, 0 , 1, 0, 1, 0, 0]}"
      ],
      "execution_count": 0,
      "outputs": []
    },
    {
      "cell_type": "code",
      "metadata": {
        "id": "ePJXrE2ip5Kc",
        "colab_type": "code",
        "outputId": "f4d82762-f159-4168-9cd2-65cff5cbcab2",
        "colab": {
          "base_uri": "https://localhost:8080/",
          "height": 204
        }
      },
      "source": [
        "# Create dataframe\n",
        "\n",
        "train = pd.DataFrame(train_data)\n",
        "train.head()"
      ],
      "execution_count": 19,
      "outputs": [
        {
          "output_type": "execute_result",
          "data": {
            "text/html": [
              "<div>\n",
              "<style scoped>\n",
              "    .dataframe tbody tr th:only-of-type {\n",
              "        vertical-align: middle;\n",
              "    }\n",
              "\n",
              "    .dataframe tbody tr th {\n",
              "        vertical-align: top;\n",
              "    }\n",
              "\n",
              "    .dataframe thead th {\n",
              "        text-align: right;\n",
              "    }\n",
              "</style>\n",
              "<table border=\"1\" class=\"dataframe\">\n",
              "  <thead>\n",
              "    <tr style=\"text-align: right;\">\n",
              "      <th></th>\n",
              "      <th>Home/Away</th>\n",
              "      <th>Top25</th>\n",
              "      <th>Media</th>\n",
              "      <th>Win/Lose</th>\n",
              "    </tr>\n",
              "  </thead>\n",
              "  <tbody>\n",
              "    <tr>\n",
              "      <th>0</th>\n",
              "      <td>1</td>\n",
              "      <td>0</td>\n",
              "      <td>NBC</td>\n",
              "      <td>1</td>\n",
              "    </tr>\n",
              "    <tr>\n",
              "      <th>1</th>\n",
              "      <td>0</td>\n",
              "      <td>0</td>\n",
              "      <td>ABC</td>\n",
              "      <td>1</td>\n",
              "    </tr>\n",
              "    <tr>\n",
              "      <th>2</th>\n",
              "      <td>1</td>\n",
              "      <td>1</td>\n",
              "      <td>NBC</td>\n",
              "      <td>1</td>\n",
              "    </tr>\n",
              "    <tr>\n",
              "      <th>3</th>\n",
              "      <td>1</td>\n",
              "      <td>0</td>\n",
              "      <td>NBC</td>\n",
              "      <td>1</td>\n",
              "    </tr>\n",
              "    <tr>\n",
              "      <th>4</th>\n",
              "      <td>0</td>\n",
              "      <td>1</td>\n",
              "      <td>ABC</td>\n",
              "      <td>0</td>\n",
              "    </tr>\n",
              "  </tbody>\n",
              "</table>\n",
              "</div>"
            ],
            "text/plain": [
              "   Home/Away  Top25 Media  Win/Lose\n",
              "0          1      0   NBC         1\n",
              "1          0      0   ABC         1\n",
              "2          1      1   NBC         1\n",
              "3          1      0   NBC         1\n",
              "4          0      1   ABC         0"
            ]
          },
          "metadata": {
            "tags": []
          },
          "execution_count": 19
        }
      ]
    },
    {
      "cell_type": "code",
      "metadata": {
        "id": "PFjIfpuQp5Kh",
        "colab_type": "code",
        "colab": {}
      },
      "source": [
        "# Encode the media feature, then extract independant and depedant variables seperately\n",
        "\n",
        "train['Media'] = OrdinalEncoder(dtype=int).fit_transform(np.array(train['Media']).reshape(-1, 1))\n",
        "Xtrain = train.drop('Win/Lose', axis=1, inplace=False)\n",
        "Ytrain = train['Win/Lose']"
      ],
      "execution_count": 0,
      "outputs": []
    },
    {
      "cell_type": "code",
      "metadata": {
        "id": "MjhIfYpTyrPQ",
        "colab_type": "code",
        "colab": {
          "base_uri": "https://localhost:8080/",
          "height": 204
        },
        "outputId": "31ab0528-31b7-47e0-9db0-4388357a493e"
      },
      "source": [
        "train.head()"
      ],
      "execution_count": 21,
      "outputs": [
        {
          "output_type": "execute_result",
          "data": {
            "text/html": [
              "<div>\n",
              "<style scoped>\n",
              "    .dataframe tbody tr th:only-of-type {\n",
              "        vertical-align: middle;\n",
              "    }\n",
              "\n",
              "    .dataframe tbody tr th {\n",
              "        vertical-align: top;\n",
              "    }\n",
              "\n",
              "    .dataframe thead th {\n",
              "        text-align: right;\n",
              "    }\n",
              "</style>\n",
              "<table border=\"1\" class=\"dataframe\">\n",
              "  <thead>\n",
              "    <tr style=\"text-align: right;\">\n",
              "      <th></th>\n",
              "      <th>Home/Away</th>\n",
              "      <th>Top25</th>\n",
              "      <th>Media</th>\n",
              "      <th>Win/Lose</th>\n",
              "    </tr>\n",
              "  </thead>\n",
              "  <tbody>\n",
              "    <tr>\n",
              "      <th>0</th>\n",
              "      <td>1</td>\n",
              "      <td>0</td>\n",
              "      <td>4</td>\n",
              "      <td>1</td>\n",
              "    </tr>\n",
              "    <tr>\n",
              "      <th>1</th>\n",
              "      <td>0</td>\n",
              "      <td>0</td>\n",
              "      <td>0</td>\n",
              "      <td>1</td>\n",
              "    </tr>\n",
              "    <tr>\n",
              "      <th>2</th>\n",
              "      <td>1</td>\n",
              "      <td>1</td>\n",
              "      <td>4</td>\n",
              "      <td>1</td>\n",
              "    </tr>\n",
              "    <tr>\n",
              "      <th>3</th>\n",
              "      <td>1</td>\n",
              "      <td>0</td>\n",
              "      <td>4</td>\n",
              "      <td>1</td>\n",
              "    </tr>\n",
              "    <tr>\n",
              "      <th>4</th>\n",
              "      <td>0</td>\n",
              "      <td>1</td>\n",
              "      <td>0</td>\n",
              "      <td>0</td>\n",
              "    </tr>\n",
              "  </tbody>\n",
              "</table>\n",
              "</div>"
            ],
            "text/plain": [
              "   Home/Away  Top25  Media  Win/Lose\n",
              "0          1      0      4         1\n",
              "1          0      0      0         1\n",
              "2          1      1      4         1\n",
              "3          1      0      4         1\n",
              "4          0      1      0         0"
            ]
          },
          "metadata": {
            "tags": []
          },
          "execution_count": 21
        }
      ]
    },
    {
      "cell_type": "code",
      "metadata": {
        "id": "u3POfdxbp5Kl",
        "colab_type": "code",
        "outputId": "237b5703-1ada-468a-838b-2d6a9d4a9b26",
        "colab": {
          "base_uri": "https://localhost:8080/",
          "height": 204
        }
      },
      "source": [
        "# Creating test data\n",
        "\n",
        "test_data = {'Home/Away': [1, 1, 0, 0, 1, 0, 1, 1, 1, 0, 1, 0], \n",
        "              'Top25': [0, 1, 0, 0, 0, 0, 1, 0, 0, 1, 0, 1], \n",
        "              'Media': ['NBC', 'NBC', 'ESPN', 'FOX', 'NBC', 'ABC', \n",
        "                        'NBC', 'NBC', 'NBC', 'ABC', 'NBC', 'ABC']}\n",
        "\n",
        "test_labels = np.array([1, 0, 1, 1, 1, 1, 1, 1, 1, 0, 1, 0])\n",
        "\n",
        "test = pd.DataFrame(test_data)\n",
        "test['Media'] = OrdinalEncoder(dtype=int).fit_transform(np.array(test['Media']).reshape(-1, 1))\n",
        "test.head()"
      ],
      "execution_count": 22,
      "outputs": [
        {
          "output_type": "execute_result",
          "data": {
            "text/html": [
              "<div>\n",
              "<style scoped>\n",
              "    .dataframe tbody tr th:only-of-type {\n",
              "        vertical-align: middle;\n",
              "    }\n",
              "\n",
              "    .dataframe tbody tr th {\n",
              "        vertical-align: top;\n",
              "    }\n",
              "\n",
              "    .dataframe thead th {\n",
              "        text-align: right;\n",
              "    }\n",
              "</style>\n",
              "<table border=\"1\" class=\"dataframe\">\n",
              "  <thead>\n",
              "    <tr style=\"text-align: right;\">\n",
              "      <th></th>\n",
              "      <th>Home/Away</th>\n",
              "      <th>Top25</th>\n",
              "      <th>Media</th>\n",
              "    </tr>\n",
              "  </thead>\n",
              "  <tbody>\n",
              "    <tr>\n",
              "      <th>0</th>\n",
              "      <td>1</td>\n",
              "      <td>0</td>\n",
              "      <td>3</td>\n",
              "    </tr>\n",
              "    <tr>\n",
              "      <th>1</th>\n",
              "      <td>1</td>\n",
              "      <td>1</td>\n",
              "      <td>3</td>\n",
              "    </tr>\n",
              "    <tr>\n",
              "      <th>2</th>\n",
              "      <td>0</td>\n",
              "      <td>0</td>\n",
              "      <td>1</td>\n",
              "    </tr>\n",
              "    <tr>\n",
              "      <th>3</th>\n",
              "      <td>0</td>\n",
              "      <td>0</td>\n",
              "      <td>2</td>\n",
              "    </tr>\n",
              "    <tr>\n",
              "      <th>4</th>\n",
              "      <td>1</td>\n",
              "      <td>0</td>\n",
              "      <td>3</td>\n",
              "    </tr>\n",
              "  </tbody>\n",
              "</table>\n",
              "</div>"
            ],
            "text/plain": [
              "   Home/Away  Top25  Media\n",
              "0          1      0      3\n",
              "1          1      1      3\n",
              "2          0      0      1\n",
              "3          0      0      2\n",
              "4          1      0      3"
            ]
          },
          "metadata": {
            "tags": []
          },
          "execution_count": 22
        }
      ]
    },
    {
      "cell_type": "code",
      "metadata": {
        "id": "BrHDO-wlp5Kr",
        "colab_type": "code",
        "outputId": "d3c3ea1b-a229-4301-b8f7-aeb3a02af0cc",
        "colab": {
          "base_uri": "https://localhost:8080/",
          "height": 34
        }
      },
      "source": [
        "# Create and fit naive bayes classifier\n",
        "\n",
        "model = GaussianNB()\n",
        "model.fit(Xtrain, Ytrain)"
      ],
      "execution_count": 28,
      "outputs": [
        {
          "output_type": "execute_result",
          "data": {
            "text/plain": [
              "GaussianNB(priors=None, var_smoothing=1e-09)"
            ]
          },
          "metadata": {
            "tags": []
          },
          "execution_count": 28
        }
      ]
    },
    {
      "cell_type": "code",
      "metadata": {
        "id": "zeoIFjaBp5Kw",
        "colab_type": "code",
        "outputId": "23e9a23e-7444-40f6-d8a9-77e4dc3efaff",
        "colab": {
          "base_uri": "https://localhost:8080/",
          "height": 34
        }
      },
      "source": [
        "# Use model to make predictions on test set\n",
        "\n",
        "preds = model.predict(test)\n",
        "preds"
      ],
      "execution_count": 27,
      "outputs": [
        {
          "output_type": "execute_result",
          "data": {
            "text/plain": [
              "array([1, 0, 0, 1, 1, 0, 0, 1, 1, 0, 1, 0])"
            ]
          },
          "metadata": {
            "tags": []
          },
          "execution_count": 27
        }
      ]
    },
    {
      "cell_type": "code",
      "metadata": {
        "id": "D20RntFNp5K1",
        "colab_type": "code",
        "colab": {}
      },
      "source": [
        "# Calculate metrics\n",
        "\n",
        "accuracy = np.sum(test_labels == preds) / len(preds)\n",
        "precision = metrics.precision_score(test_labels, preds)\n",
        "recall = metrics.recall_score(test_labels, preds)\n",
        "f1 = (2 * (precision * recall)) / (precision + recall)"
      ],
      "execution_count": 0,
      "outputs": []
    },
    {
      "cell_type": "code",
      "metadata": {
        "id": "dAThVh9bp5K7",
        "colab_type": "code",
        "outputId": "9879f7f0-e864-49e5-a672-e6e91d8cf87b",
        "colab": {
          "base_uri": "https://localhost:8080/",
          "height": 85
        }
      },
      "source": [
        "print('Accuracy: {}%'.format(np.round(accuracy * 100, 2)))\n",
        "print('Precision: {}%'.format(np.round(precision * 100, 2)))\n",
        "print('Recall: {}%'.format(np.round(recall * 100, 2)))\n",
        "print('F1 Score: {}%'.format(np.round(f1 * 100, 2)))"
      ],
      "execution_count": 30,
      "outputs": [
        {
          "output_type": "stream",
          "text": [
            "Accuracy: 75.0%\n",
            "Precision: 100.0%\n",
            "Recall: 66.67%\n",
            "F1 Score: 80.0%\n"
          ],
          "name": "stdout"
        }
      ]
    },
    {
      "cell_type": "code",
      "metadata": {
        "id": "_j3HZa-3yHHO",
        "colab_type": "code",
        "colab": {}
      },
      "source": [
        ""
      ],
      "execution_count": 0,
      "outputs": []
    }
  ]
}